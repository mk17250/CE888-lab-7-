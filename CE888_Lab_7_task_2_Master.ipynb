{
  "nbformat": 4,
  "nbformat_minor": 0,
  "metadata": {
    "colab": {
      "name": "CE888 Lab 7 - task 2 Master.ipynb",
      "provenance": [],
      "include_colab_link": true
    },
    "kernelspec": {
      "name": "python3",
      "display_name": "Python 3"
    },
    "accelerator": "GPU"
  },
  "cells": [
    {
      "cell_type": "markdown",
      "metadata": {
        "id": "view-in-github",
        "colab_type": "text"
      },
      "source": [
        "<a href=\"https://colab.research.google.com/github/mk17250/CE888-lab-7-/blob/main/CE888_Lab_7_task_2_Master.ipynb\" target=\"_parent\"><img src=\"https://colab.research.google.com/assets/colab-badge.svg\" alt=\"Open In Colab\"/></a>"
      ]
    },
    {
      "cell_type": "markdown",
      "metadata": {
        "id": "qTh9DiKVslsJ"
      },
      "source": [
        "## Dogs vs. Cats \n",
        "\n",
        "In this competition, you'll write an algorithm to classify whether images contain either a dog or a cat.  This is easy for humans, dogs, and cats. Your computer will find it a bit more difficult.\n",
        "\n",
        "![alt text](https://miro.medium.com/max/3000/1*bhFifratH9DjKqMBTeQG5A.gif)\n",
        "\n",
        "Ref: https://medium.com/@thegrigorian/rolling-in-the-deep-cnn-c8d3f7108c8c"
      ]
    },
    {
      "cell_type": "markdown",
      "metadata": {
        "id": "RSBI-_mSSY1g"
      },
      "source": [
        "Get your API Key from Kaggle using following steps:\n",
        "1. Login to [Kaggle](https://www.kaggle.com/) or Register if you don't have account\n",
        "2. Open Dataset (https://www.kaggle.com/c/dogs-vs-cats/rules) and accept terms and condition. \n",
        "3. On the top right corner click on your Icon and go to accounts and press a button \"Create New API Token\". It will download a JSON file containing your username and key. \n",
        "4. Now, paste both below. \n"
      ]
    },
    {
      "cell_type": "code",
      "metadata": {
        "id": "YmXSOc0tZIGA",
        "colab": {
          "base_uri": "https://localhost:8080/"
        },
        "outputId": "2690033e-0335-4e15-8f40-1b0ce9af9a9d"
      },
      "source": [
        "import os\n",
        "os.environ['KAGGLE_USERNAME'] = \"matthewking210\" # username from the json file\n",
        "os.environ['KAGGLE_KEY'] = \"6394ab2e1dfc421393cf5a3f45805907\" # key from the json file\n",
        "!kaggle competitions download -c dogs-vs-cats # api copied from kaggle (https://www.kaggle.com/c/dogs-vs-cats/data)"
      ],
      "execution_count": 1,
      "outputs": [
        {
          "output_type": "stream",
          "text": [
            "Warning: Looks like you're using an outdated API Version, please consider updating (server 1.5.10 / client 1.5.4)\n",
            "Downloading train.zip to /content\n",
            "100% 542M/543M [00:04<00:00, 161MB/s]\n",
            "100% 543M/543M [00:04<00:00, 139MB/s]\n",
            "Downloading sampleSubmission.csv to /content\n",
            "  0% 0.00/86.8k [00:00<?, ?B/s]\n",
            "100% 86.8k/86.8k [00:00<00:00, 85.3MB/s]\n",
            "Downloading test1.zip to /content\n",
            " 94% 254M/271M [00:01<00:00, 132MB/s]\n",
            "100% 271M/271M [00:01<00:00, 144MB/s]\n"
          ],
          "name": "stdout"
        }
      ]
    },
    {
      "cell_type": "code",
      "metadata": {
        "id": "PiwIL8d1n7eS",
        "colab": {
          "base_uri": "https://localhost:8080/"
        },
        "outputId": "dde1ad2f-c83d-4611-e704-454261e1999e"
      },
      "source": [
        "# Unzip training data\n",
        "from zipfile import ZipFile\n",
        "file_name = \"/content/train.zip\"\n",
        "with ZipFile(file_name, 'r') as zip:\n",
        "  zip.extractall()\n",
        "  print('done')"
      ],
      "execution_count": 3,
      "outputs": [
        {
          "output_type": "stream",
          "text": [
            "done\n"
          ],
          "name": "stdout"
        }
      ]
    },
    {
      "cell_type": "code",
      "metadata": {
        "id": "sa2Bj5i7pPKV",
        "colab": {
          "base_uri": "https://localhost:8080/"
        },
        "outputId": "d8eab334-562d-40e6-c184-abd395296c85"
      },
      "source": [
        "# Get all the paths\n",
        "data_dir_list = os.listdir('/content/train')\n",
        "#print(data_dir_list)\n",
        "path, dirs, files = next(os.walk(\"/content/train\"))\n",
        "file_count = len(files)\n",
        "print(file_count)"
      ],
      "execution_count": 4,
      "outputs": [
        {
          "output_type": "stream",
          "text": [
            "25000\n"
          ],
          "name": "stdout"
        }
      ]
    },
    {
      "cell_type": "code",
      "metadata": {
        "id": "0ERlHkfHqpK8"
      },
      "source": [
        "# Make new base directory\n",
        "original_dataset_dir = '/content/train'\n",
        "base_dir = '/content/cats_and_dogs_small'\n",
        "os.mkdir(base_dir)"
      ],
      "execution_count": 5,
      "outputs": []
    },
    {
      "cell_type": "code",
      "metadata": {
        "id": "AANB1UJ6rQhM"
      },
      "source": [
        "train_dir = os.path.join(base_dir, 'train')\n",
        "os.mkdir(train_dir)\n",
        "\n",
        "validation_dir = os.path.join(base_dir, 'validation')\n",
        "os.mkdir(validation_dir)\n",
        "\n",
        "test_dir = os.path.join(base_dir, 'test')\n",
        "os.mkdir(test_dir)\n",
        "\n",
        "train_cats_dir = os.path.join(train_dir, 'cats')\n",
        "os.mkdir(train_cats_dir)\n",
        "\n",
        "train_dogs_dir = os.path.join(train_dir, 'dogs')\n",
        "os.mkdir(train_dogs_dir)\n",
        "\n",
        "validation_cats_dir = os.path.join(validation_dir, 'cats')\n",
        "os.mkdir(validation_cats_dir)\n",
        "\n",
        "validation_dogs_dir = os.path.join(validation_dir, 'dogs')\n",
        "os.mkdir(validation_dogs_dir)\n",
        "\n",
        "test_cats_dir = os.path.join(test_dir, 'cats')\n",
        "os.mkdir(test_cats_dir)\n",
        "\n",
        "test_dogs_dir = os.path.join(test_dir, 'dogs')\n",
        "os.mkdir(test_dogs_dir)"
      ],
      "execution_count": 6,
      "outputs": []
    },
    {
      "cell_type": "code",
      "metadata": {
        "id": "ULRgL9s9rV8T"
      },
      "source": [
        "import shutil\n",
        "fnames = ['cat.{}.jpg'.format(i) for i in range(1000)]\n",
        "for fname in fnames:\n",
        "    src = os.path.join(original_dataset_dir, fname)\n",
        "    dst = os.path.join(train_cats_dir, fname)\n",
        "    #print(src,dst)\n",
        "    shutil.copyfile(src, dst)\n",
        "    \n",
        "fnames = ['cat.{}.jpg'.format(i) for i in range(1000, 1500)]\n",
        "for fname in fnames:\n",
        "    src = os.path.join(original_dataset_dir, fname)\n",
        "    dst = os.path.join(validation_cats_dir, fname)\n",
        "    shutil.copyfile(src, dst)\n",
        "\n",
        "fnames = ['cat.{}.jpg'.format(i) for i in range(1500, 2000)]\n",
        "for fname in fnames:\n",
        "    src = os.path.join(original_dataset_dir, fname)\n",
        "    dst = os.path.join(test_cats_dir, fname)\n",
        "    shutil.copyfile(src, dst)\n",
        "    \n",
        "fnames = ['dog.{}.jpg'.format(i) for i in range(1000)]\n",
        "for fname in fnames:\n",
        "    src = os.path.join(original_dataset_dir, fname)\n",
        "    dst = os.path.join(train_dogs_dir, fname)\n",
        "    shutil.copyfile(src, dst)\n",
        "\n",
        "fnames = ['dog.{}.jpg'.format(i) for i in range(1000, 1500)]\n",
        "for fname in fnames:\n",
        "    src = os.path.join(original_dataset_dir, fname)\n",
        "    dst = os.path.join(validation_dogs_dir, fname)\n",
        "    shutil.copyfile(src, dst)\n",
        "\n",
        "fnames = ['dog.{}.jpg'.format(i) for i in range(1500, 2000)]\n",
        "for fname in fnames:\n",
        "    src = os.path.join(original_dataset_dir, fname)\n",
        "    dst = os.path.join(test_dogs_dir, fname)\n",
        "    shutil.copyfile(src, dst)"
      ],
      "execution_count": 7,
      "outputs": []
    },
    {
      "cell_type": "code",
      "metadata": {
        "id": "ul3XAbIyr7vC",
        "colab": {
          "base_uri": "https://localhost:8080/"
        },
        "outputId": "66ed3d65-a994-4b87-8e42-26118ca01e42"
      },
      "source": [
        "print('total training cat images:', len(os.listdir(train_cats_dir)))\n",
        "print('total training dog images:', len(os.listdir(train_dogs_dir)))\n",
        "print('total validation cat images:', len(os.listdir(validation_cats_dir)))\n",
        "\n",
        "print('total validation dog images:', len(os.listdir(validation_dogs_dir)))\n",
        "print('total test cat images:', len(os.listdir(test_cats_dir)))\n",
        "print('total test dog images:', len(os.listdir(test_dogs_dir)))"
      ],
      "execution_count": 8,
      "outputs": [
        {
          "output_type": "stream",
          "text": [
            "total training cat images: 1000\n",
            "total training dog images: 1000\n",
            "total validation cat images: 500\n",
            "total validation dog images: 500\n",
            "total test cat images: 500\n",
            "total test dog images: 500\n"
          ],
          "name": "stdout"
        }
      ]
    },
    {
      "cell_type": "code",
      "metadata": {
        "id": "o9yTA21_r-ma",
        "colab": {
          "base_uri": "https://localhost:8080/"
        },
        "outputId": "5807c58d-670e-4837-a544-c16f13f04a7e"
      },
      "source": [
        "from keras import layers\n",
        "from keras import models\n",
        "\n",
        "model = models.Sequential()\n",
        "model.add(layers.Conv2D(32, (3, 3), activation='relu', input_shape=(150, 150, 3)))\n",
        "model.add(layers.MaxPooling2D((2, 2)))\n",
        "model.add(layers.Conv2D(64, (3, 3), activation='relu'))\n",
        "model.add(layers.MaxPooling2D((2, 2)))\n",
        "model.add(layers.Conv2D(128, (3, 3), activation='relu'))\n",
        "model.add(layers.MaxPooling2D((2, 2)))\n",
        "model.add(layers.Conv2D(128, (3, 3), activation='relu'))\n",
        "model.add(layers.MaxPooling2D((2, 2)))\n",
        "model.add(layers.Flatten())\n",
        "model.add(layers.Dense(512, activation='relu'))\n",
        "model.add(layers.Dense(1, activation='sigmoid'))\n",
        "model.summary()"
      ],
      "execution_count": 9,
      "outputs": [
        {
          "output_type": "stream",
          "text": [
            "Model: \"sequential\"\n",
            "_________________________________________________________________\n",
            "Layer (type)                 Output Shape              Param #   \n",
            "=================================================================\n",
            "conv2d (Conv2D)              (None, 148, 148, 32)      896       \n",
            "_________________________________________________________________\n",
            "max_pooling2d (MaxPooling2D) (None, 74, 74, 32)        0         \n",
            "_________________________________________________________________\n",
            "conv2d_1 (Conv2D)            (None, 72, 72, 64)        18496     \n",
            "_________________________________________________________________\n",
            "max_pooling2d_1 (MaxPooling2 (None, 36, 36, 64)        0         \n",
            "_________________________________________________________________\n",
            "conv2d_2 (Conv2D)            (None, 34, 34, 128)       73856     \n",
            "_________________________________________________________________\n",
            "max_pooling2d_2 (MaxPooling2 (None, 17, 17, 128)       0         \n",
            "_________________________________________________________________\n",
            "conv2d_3 (Conv2D)            (None, 15, 15, 128)       147584    \n",
            "_________________________________________________________________\n",
            "max_pooling2d_3 (MaxPooling2 (None, 7, 7, 128)         0         \n",
            "_________________________________________________________________\n",
            "flatten (Flatten)            (None, 6272)              0         \n",
            "_________________________________________________________________\n",
            "dense (Dense)                (None, 512)               3211776   \n",
            "_________________________________________________________________\n",
            "dense_1 (Dense)              (None, 1)                 513       \n",
            "=================================================================\n",
            "Total params: 3,453,121\n",
            "Trainable params: 3,453,121\n",
            "Non-trainable params: 0\n",
            "_________________________________________________________________\n"
          ],
          "name": "stdout"
        }
      ]
    },
    {
      "cell_type": "code",
      "metadata": {
        "id": "2mG8wekxsBVS"
      },
      "source": [
        "from keras import optimizers\n",
        "model.compile(loss='binary_crossentropy', \n",
        "              optimizer=optimizers.RMSprop(lr=1e-4),\n",
        "              metrics=['acc'])"
      ],
      "execution_count": 10,
      "outputs": []
    },
    {
      "cell_type": "markdown",
      "metadata": {
        "id": "7zS4Klm8qWp6"
      },
      "source": [
        "## Using ImageDataGenerator to read images from directories\n",
        "As you know by now, data should be formatted into appropriately preprocessed floatingpoint tensors before being fed into the network. Currently, the data sits on a drive as JPEG files, so the steps for getting it into the network are roughly as follows:\n",
        "\n",
        "* Read the picture files.\n",
        "* Decode the JPEG content to RGB grids of pixels.\n",
        "* Convert these into floating-point tensors.\n",
        "* Rescale the pixel values (between 0 and 255) to the [0, 1] interval (as you know, neural networks prefer to deal with small input values).\n",
        "\n",
        "It may seem a bit daunting, but fortunately Keras has utilities to take care of these steps automatically. Keras has a module with image-processing helper tools, located at keras.preprocessing.image. In particular, it contains the class ImageDataGenerator,which lets you quickly set up Python generators that can automatically turn image files on disk into batches of preprocessed tensors."
      ]
    },
    {
      "cell_type": "code",
      "metadata": {
        "id": "XJ7XU7t9sEh6",
        "colab": {
          "base_uri": "https://localhost:8080/"
        },
        "outputId": "07ba4a3a-7169-45f0-c1bd-43701600df4d"
      },
      "source": [
        "from keras.preprocessing.image import ImageDataGenerator\n",
        "\n",
        "train_datagen = ImageDataGenerator(rescale=1./255)\n",
        "test_datagen = ImageDataGenerator(rescale=1./255)\n",
        "\n",
        "train_generator = train_datagen.flow_from_directory(train_dir,\n",
        "                                                    target_size=(150, 150), \n",
        "                                                    batch_size=20,\n",
        "                                                    class_mode='binary')\n",
        "\n",
        "validation_generator = test_datagen.flow_from_directory(validation_dir,\n",
        "                                                        target_size=(150, 150),\n",
        "                                                        batch_size=20,\n",
        "                                                        class_mode='binary')"
      ],
      "execution_count": 11,
      "outputs": [
        {
          "output_type": "stream",
          "text": [
            "Found 2000 images belonging to 2 classes.\n",
            "Found 1000 images belonging to 2 classes.\n"
          ],
          "name": "stdout"
        }
      ]
    },
    {
      "cell_type": "markdown",
      "metadata": {
        "id": "SEgLywySqm4u"
      },
      "source": [
        "Let’s fit the model to the data using the generator. You do so using the fit_generator method, the equivalent of fit for data generators like this one. It expects as its first argument a Python generator that will yield batches of inputs and targets indefinitely,like this one does. Because the data is being generated endlessly, the Keras model needs to know how many samples to draw from the generator before declaring anepoch over. This is the role of the `steps_per_epoch` argument: after having drawn `steps_per_epoch` batches from the generator—that is, after having run for `steps_per_epoch` gradient descent steps—the fitting process will go to the next epoch. In this case, batches are 20 samples, so it will take 100 batches until you see your target of 2,000 samples.\n",
        "\n",
        "When using fit_generator, you can pass a validation_data argument, much as with the fit method. It’s important to note that this argument is allowed to be a data generator, but it could also be a tuple of Numpy arrays. If you pass a generator as validation_data, then this generator is expected to yield batches of validation data endlessly; thus you should also specify the validation_steps argument, which tells the process how many batches to draw from the validation generator for evaluation."
      ]
    },
    {
      "cell_type": "code",
      "metadata": {
        "id": "yMyfPphJsJG6",
        "colab": {
          "base_uri": "https://localhost:8080/"
        },
        "outputId": "310c1d79-d0fa-4800-822f-b9ed811559f5"
      },
      "source": [
        "history = model.fit_generator(train_generator,\n",
        "                              steps_per_epoch=100,\n",
        "                              epochs=30,\n",
        "                              validation_data=validation_generator,\n",
        "                              validation_steps=10)"
      ],
      "execution_count": 12,
      "outputs": [
        {
          "output_type": "stream",
          "text": [
            "/usr/local/lib/python3.7/dist-packages/tensorflow/python/keras/engine/training.py:1844: UserWarning: `Model.fit_generator` is deprecated and will be removed in a future version. Please use `Model.fit`, which supports generators.\n",
            "  warnings.warn('`Model.fit_generator` is deprecated and '\n"
          ],
          "name": "stderr"
        },
        {
          "output_type": "stream",
          "text": [
            "Epoch 1/30\n",
            "100/100 [==============================] - 40s 69ms/step - loss: 0.6925 - acc: 0.5238 - val_loss: 0.6761 - val_acc: 0.5750\n",
            "Epoch 2/30\n",
            "100/100 [==============================] - 7s 66ms/step - loss: 0.6612 - acc: 0.5875 - val_loss: 0.6778 - val_acc: 0.5800\n",
            "Epoch 3/30\n",
            "100/100 [==============================] - 7s 67ms/step - loss: 0.5979 - acc: 0.6660 - val_loss: 0.6654 - val_acc: 0.6000\n",
            "Epoch 4/30\n",
            "100/100 [==============================] - 7s 67ms/step - loss: 0.5695 - acc: 0.6876 - val_loss: 0.7336 - val_acc: 0.6250\n",
            "Epoch 5/30\n",
            "100/100 [==============================] - 7s 67ms/step - loss: 0.5311 - acc: 0.7201 - val_loss: 0.5735 - val_acc: 0.7000\n",
            "Epoch 6/30\n",
            "100/100 [==============================] - 7s 67ms/step - loss: 0.4864 - acc: 0.7650 - val_loss: 0.6470 - val_acc: 0.6600\n",
            "Epoch 7/30\n",
            "100/100 [==============================] - 7s 68ms/step - loss: 0.4748 - acc: 0.7694 - val_loss: 0.6248 - val_acc: 0.6550\n",
            "Epoch 8/30\n",
            "100/100 [==============================] - 7s 68ms/step - loss: 0.4410 - acc: 0.8010 - val_loss: 0.5385 - val_acc: 0.7200\n",
            "Epoch 9/30\n",
            "100/100 [==============================] - 7s 68ms/step - loss: 0.4299 - acc: 0.7999 - val_loss: 0.6291 - val_acc: 0.6950\n",
            "Epoch 10/30\n",
            "100/100 [==============================] - 7s 70ms/step - loss: 0.3997 - acc: 0.8158 - val_loss: 0.4912 - val_acc: 0.7250\n",
            "Epoch 11/30\n",
            "100/100 [==============================] - 7s 72ms/step - loss: 0.3827 - acc: 0.8316 - val_loss: 0.5458 - val_acc: 0.7100\n",
            "Epoch 12/30\n",
            "100/100 [==============================] - 7s 69ms/step - loss: 0.3458 - acc: 0.8529 - val_loss: 0.5593 - val_acc: 0.7350\n",
            "Epoch 13/30\n",
            "100/100 [==============================] - 7s 72ms/step - loss: 0.3289 - acc: 0.8638 - val_loss: 0.5452 - val_acc: 0.7500\n",
            "Epoch 14/30\n",
            "100/100 [==============================] - 7s 71ms/step - loss: 0.3068 - acc: 0.8702 - val_loss: 0.5178 - val_acc: 0.7550\n",
            "Epoch 15/30\n",
            "100/100 [==============================] - 7s 71ms/step - loss: 0.2649 - acc: 0.8888 - val_loss: 0.6825 - val_acc: 0.6850\n",
            "Epoch 16/30\n",
            "100/100 [==============================] - 7s 71ms/step - loss: 0.2899 - acc: 0.8835 - val_loss: 0.6815 - val_acc: 0.6800\n",
            "Epoch 17/30\n",
            "100/100 [==============================] - 7s 69ms/step - loss: 0.2478 - acc: 0.8958 - val_loss: 0.6178 - val_acc: 0.7100\n",
            "Epoch 18/30\n",
            "100/100 [==============================] - 7s 69ms/step - loss: 0.2222 - acc: 0.9166 - val_loss: 0.5975 - val_acc: 0.7600\n",
            "Epoch 19/30\n",
            "100/100 [==============================] - 7s 68ms/step - loss: 0.2114 - acc: 0.9255 - val_loss: 0.6813 - val_acc: 0.7200\n",
            "Epoch 20/30\n",
            "100/100 [==============================] - 7s 68ms/step - loss: 0.1735 - acc: 0.9342 - val_loss: 0.8635 - val_acc: 0.7000\n",
            "Epoch 21/30\n",
            "100/100 [==============================] - 7s 68ms/step - loss: 0.1601 - acc: 0.9493 - val_loss: 0.7275 - val_acc: 0.7450\n",
            "Epoch 22/30\n",
            "100/100 [==============================] - 7s 69ms/step - loss: 0.1600 - acc: 0.9387 - val_loss: 0.9154 - val_acc: 0.7200\n",
            "Epoch 23/30\n",
            "100/100 [==============================] - 7s 69ms/step - loss: 0.1296 - acc: 0.9531 - val_loss: 0.7117 - val_acc: 0.7600\n",
            "Epoch 24/30\n",
            "100/100 [==============================] - 7s 68ms/step - loss: 0.1144 - acc: 0.9697 - val_loss: 0.8571 - val_acc: 0.7000\n",
            "Epoch 25/30\n",
            "100/100 [==============================] - 7s 68ms/step - loss: 0.1214 - acc: 0.9596 - val_loss: 0.8301 - val_acc: 0.7300\n",
            "Epoch 26/30\n",
            "100/100 [==============================] - 7s 67ms/step - loss: 0.0856 - acc: 0.9817 - val_loss: 0.8390 - val_acc: 0.7400\n",
            "Epoch 27/30\n",
            "100/100 [==============================] - 7s 70ms/step - loss: 0.0951 - acc: 0.9736 - val_loss: 0.8184 - val_acc: 0.7500\n",
            "Epoch 28/30\n",
            "100/100 [==============================] - 7s 68ms/step - loss: 0.0666 - acc: 0.9830 - val_loss: 0.6579 - val_acc: 0.7600\n",
            "Epoch 29/30\n",
            "100/100 [==============================] - 7s 68ms/step - loss: 0.0614 - acc: 0.9818 - val_loss: 1.0944 - val_acc: 0.7250\n",
            "Epoch 30/30\n",
            "100/100 [==============================] - 7s 68ms/step - loss: 0.0642 - acc: 0.9773 - val_loss: 1.0768 - val_acc: 0.6950\n"
          ],
          "name": "stdout"
        }
      ]
    },
    {
      "cell_type": "code",
      "metadata": {
        "id": "MZaZ2HWZsNUi",
        "colab": {
          "base_uri": "https://localhost:8080/",
          "height": 545
        },
        "outputId": "491cce6f-3253-46a1-bde4-dc930a59915a"
      },
      "source": [
        "model.save('cats_and_dogs_small_1.h5')\n",
        "\n",
        "import matplotlib.pyplot as plt\n",
        "\n",
        "acc = history.history['acc']\n",
        "val_acc = history.history['val_acc']\n",
        "loss = history.history['loss']\n",
        "val_loss = history.history['val_loss']\n",
        "\n",
        "epochs = range(1, len(acc) + 1)\n",
        "\n",
        "plt.plot(epochs, acc, 'bo', label='Training acc')\n",
        "plt.plot(epochs, val_acc, 'b', label='Validation acc')\n",
        "plt.title('Training and validation accuracy')\n",
        "plt.legend()\n",
        "\n",
        "plt.figure()\n",
        "\n",
        "plt.plot(epochs, loss, 'bo', label='Training loss')\n",
        "plt.plot(epochs, val_loss, 'b', label='Validation loss')\n",
        "plt.title('Training and validation loss')\n",
        "plt.legend()\n",
        "\n",
        "plt.show()"
      ],
      "execution_count": 13,
      "outputs": [
        {
          "output_type": "display_data",
          "data": {
            "image/png": "[encoded data removed]",
            "text/plain": [
              "<Figure size 432x288 with 1 Axes>"
            ]
          },
          "metadata": {
            "tags": [],
            "needs_background": "light"
          }
        },
        {
          "output_type": "display_data",
          "data": {
            "image/png": "[encoded data removed]",
            "text/plain": [
              "<Figure size 432x288 with 1 Axes>"
            ]
          },
          "metadata": {
            "tags": [],
            "needs_background": "light"
          }
        }
      ]
    },
    {
      "cell_type": "markdown",
      "metadata": {
        "id": "XKZmXmBcq_8-"
      },
      "source": [
        "## Convolutional Networks with Dropout\n",
        "\n",
        "![alt text](https://camo.githubusercontent.com/ee6fa1073247cd2c3d241300caf110d7a7541bc5/68747470733a2f2f63646e2d696d616765732d312e6d656469756d2e636f6d2f6d61782f3830302f312a4972644a355067684439596f4f7956415137334d4a772e676966)\n",
        "\n",
        "Ref: https://github.com/mneha4/Training-Neural-Nets---Guidelines"
      ]
    },
    {
      "cell_type": "code",
      "metadata": {
        "id": "wu3cqeYQrDeN"
      },
      "source": [
        "model = models.Sequential()\n",
        "model.add(layers.Conv2D(32, (3, 3), activation='relu',\n",
        "input_shape=(150, 150, 3)))\n",
        "model.add(layers.MaxPooling2D((2, 2)))\n",
        "model.add(layers.Conv2D(64, (3, 3), activation='relu'))\n",
        "model.add(layers.MaxPooling2D((2, 2)))\n",
        "model.add(layers.Conv2D(128, (3, 3), activation='relu'))\n",
        "model.add(layers.MaxPooling2D((2, 2)))\n",
        "model.add(layers.Conv2D(128, (3, 3), activation='relu'))\n",
        "model.add(layers.MaxPooling2D((2, 2)))\n",
        "model.add(layers.Flatten())\n",
        "model.add(layers.Dropout(0.5))\n",
        "model.add(layers.Dense(512, activation='relu'))\n",
        "model.add(layers.Dense(1, activation='sigmoid'))\n",
        "\n",
        "model.compile(loss='binary_crossentropy',\n",
        "              optimizer=optimizers.RMSprop(lr=1e-5),\n",
        "              metrics=['acc'])"
      ],
      "execution_count": 14,
      "outputs": []
    },
    {
      "cell_type": "code",
      "metadata": {
        "id": "QSeLpvY0rH7F",
        "colab": {
          "base_uri": "https://localhost:8080/"
        },
        "outputId": "5ce166c5-a46f-49cf-f16d-8d5573ccde52"
      },
      "source": [
        "\n",
        "train_datagen = ImageDataGenerator(rescale=1./255,\n",
        "                                   rotation_range=40,\n",
        "                                   width_shift_range=0.2,\n",
        "                                   height_shift_range=0.2,\n",
        "                                   shear_range=0.2,\n",
        "                                   zoom_range=0.2,\n",
        "                                   horizontal_flip=True,)\n",
        "\n",
        "test_datagen = ImageDataGenerator(rescale=1./255)\n",
        "\n",
        "train_generator = train_datagen.flow_from_directory(train_dir,\n",
        "                                                    target_size=(150, 150),\n",
        "                                                    batch_size=20,\n",
        "                                                    class_mode='binary')\n",
        "\n",
        "validation_generator = test_datagen.flow_from_directory(validation_dir,\n",
        "                                                        target_size=(150, 150),\n",
        "                                                        batch_size=20,\n",
        "                                                        class_mode='binary')\n",
        "\n",
        "history = model.fit_generator(train_generator,\n",
        "                              steps_per_epoch=100,\n",
        "                              epochs=20,\n",
        "                              validation_data=validation_generator,\n",
        "                              validation_steps=50)"
      ],
      "execution_count": 16,
      "outputs": [
        {
          "output_type": "stream",
          "text": [
            "Found 2000 images belonging to 2 classes.\n",
            "Found 1000 images belonging to 2 classes.\n"
          ],
          "name": "stdout"
        },
        {
          "output_type": "stream",
          "text": [
            "/usr/local/lib/python3.7/dist-packages/tensorflow/python/keras/engine/training.py:1844: UserWarning: `Model.fit_generator` is deprecated and will be removed in a future version. Please use `Model.fit`, which supports generators.\n",
            "  warnings.warn('`Model.fit_generator` is deprecated and '\n"
          ],
          "name": "stderr"
        },
        {
          "output_type": "stream",
          "text": [
            "Epoch 1/20\n",
            "100/100 [==============================] - 18s 175ms/step - loss: 0.6866 - acc: 0.5385 - val_loss: 0.6773 - val_acc: 0.5260\n",
            "Epoch 2/20\n",
            "100/100 [==============================] - 17s 174ms/step - loss: 0.6731 - acc: 0.5780 - val_loss: 0.7243 - val_acc: 0.5160\n",
            "Epoch 3/20\n",
            "100/100 [==============================] - 18s 175ms/step - loss: 0.6707 - acc: 0.5730 - val_loss: 0.6448 - val_acc: 0.6200\n",
            "Epoch 4/20\n",
            "100/100 [==============================] - 17s 174ms/step - loss: 0.6561 - acc: 0.6020 - val_loss: 0.6495 - val_acc: 0.6100\n",
            "Epoch 5/20\n",
            "100/100 [==============================] - 17s 174ms/step - loss: 0.6412 - acc: 0.6265 - val_loss: 0.6168 - val_acc: 0.6520\n",
            "Epoch 6/20\n",
            "100/100 [==============================] - 17s 172ms/step - loss: 0.6237 - acc: 0.6535 - val_loss: 0.5901 - val_acc: 0.6820\n",
            "Epoch 7/20\n",
            "100/100 [==============================] - 17s 172ms/step - loss: 0.6167 - acc: 0.6505 - val_loss: 0.5987 - val_acc: 0.6680\n",
            "Epoch 8/20\n",
            "100/100 [==============================] - 17s 173ms/step - loss: 0.6085 - acc: 0.6695 - val_loss: 0.5770 - val_acc: 0.6900\n",
            "Epoch 9/20\n",
            "100/100 [==============================] - 17s 173ms/step - loss: 0.5862 - acc: 0.6815 - val_loss: 0.6246 - val_acc: 0.6410\n",
            "Epoch 10/20\n",
            "100/100 [==============================] - 17s 171ms/step - loss: 0.5832 - acc: 0.6840 - val_loss: 0.5703 - val_acc: 0.6820\n",
            "Epoch 11/20\n",
            "100/100 [==============================] - 17s 172ms/step - loss: 0.5778 - acc: 0.6910 - val_loss: 0.6175 - val_acc: 0.6560\n",
            "Epoch 12/20\n",
            "100/100 [==============================] - 17s 172ms/step - loss: 0.5828 - acc: 0.6890 - val_loss: 0.5815 - val_acc: 0.6740\n",
            "Epoch 13/20\n",
            "100/100 [==============================] - 17s 172ms/step - loss: 0.5783 - acc: 0.7015 - val_loss: 0.5432 - val_acc: 0.7130\n",
            "Epoch 14/20\n",
            "100/100 [==============================] - 17s 171ms/step - loss: 0.5680 - acc: 0.7110 - val_loss: 0.5487 - val_acc: 0.7040\n",
            "Epoch 15/20\n",
            "100/100 [==============================] - 17s 172ms/step - loss: 0.5619 - acc: 0.7045 - val_loss: 0.5533 - val_acc: 0.7140\n",
            "Epoch 16/20\n",
            "100/100 [==============================] - 17s 174ms/step - loss: 0.5598 - acc: 0.7155 - val_loss: 0.5396 - val_acc: 0.7220\n",
            "Epoch 17/20\n",
            "100/100 [==============================] - 17s 172ms/step - loss: 0.5528 - acc: 0.7050 - val_loss: 0.5688 - val_acc: 0.7030\n",
            "Epoch 18/20\n",
            "100/100 [==============================] - 17s 171ms/step - loss: 0.5441 - acc: 0.7270 - val_loss: 0.5060 - val_acc: 0.7430\n",
            "Epoch 19/20\n",
            "100/100 [==============================] - 17s 171ms/step - loss: 0.5397 - acc: 0.7165 - val_loss: 0.5322 - val_acc: 0.7310\n",
            "Epoch 20/20\n",
            "100/100 [==============================] - 17s 171ms/step - loss: 0.5297 - acc: 0.7235 - val_loss: 0.5339 - val_acc: 0.7270\n"
          ],
          "name": "stdout"
        }
      ]
    },
    {
      "cell_type": "markdown",
      "metadata": {
        "id": "BRdU5yrkUF_b"
      },
      "source": [
        "# Task 2:\n",
        "\n",
        "We have used Dropout to enhance the performance of the CNN model. Can you please use whatever you like to further enhance the performance from `val_acc: 0.7506`? "
      ]
    },
    {
      "cell_type": "code",
      "metadata": {
        "id": "b1MjaasAplPg"
      },
      "source": [
        "from keras.layers import BatchNormalization\r\n",
        "from keras.optimizers import SGD\r\n",
        "\r\n",
        "model = models.Sequential()\r\n",
        "model.add(layers.Conv2D(32, (3, 3), activation='relu',\r\n",
        "input_shape=(150, 150, 3)))\r\n",
        "model.add(BatchNormalization())\r\n",
        "model.add(layers.MaxPooling2D((2, 2)))\r\n",
        "model.add(layers.Dropout(0.25))\r\n",
        "model.add(layers.Conv2D(64, (3, 3), activation='relu'))\r\n",
        "model.add(BatchNormalization())\r\n",
        "model.add(layers.MaxPooling2D((2, 2)))\r\n",
        "model.add(layers.Dropout(0.25))\r\n",
        "model.add(layers.Conv2D(128, (3, 3), activation='relu'))\r\n",
        "model.add(BatchNormalization())\r\n",
        "model.add(layers.MaxPooling2D((2, 2)))\r\n",
        "model.add(layers.Dropout(0.25))\r\n",
        "model.add(layers.Conv2D(128, (3, 3), activation='relu'))\r\n",
        "model.add(BatchNormalization())\r\n",
        "model.add(layers.MaxPooling2D((2, 2)))\r\n",
        "model.add(layers.Flatten())\r\n",
        "model.add(layers.Dense(512, activation='relu'))\r\n",
        "model.add(BatchNormalization())\r\n",
        "model.add(layers.Dropout(0.5))\r\n",
        "model.add(layers.Dense(1, activation='sigmoid'))\r\n",
        "#model.summary()\r\n",
        "\r\n",
        "from keras.callbacks import EarlyStopping, ReduceLROnPlateau\r\n",
        "earlystop = EarlyStopping(patience = 15)\r\n",
        "learning_rate_reduction = ReduceLROnPlateau(patience = 2,verbose = 1,factor = 0.5,min_lr = 0.00001)\r\n",
        "callbacks = [earlystop,learning_rate_reduction]\r\n",
        "\r\n",
        "model.compile(loss='categorical_crossentropy',\r\n",
        "              optimizer='rmsprop',\r\n",
        "              metrics=['accuracy'])\r\n"
      ],
      "execution_count": 87,
      "outputs": []
    },
    {
      "cell_type": "code",
      "metadata": {
        "colab": {
          "base_uri": "https://localhost:8080/"
        },
        "id": "OWoHQWHsNBpI",
        "outputId": "2034265b-514b-4f0d-92e2-3cc3cffc21b5"
      },
      "source": [
        "train_datagen = ImageDataGenerator(rescale=1./255,\r\n",
        "                                   rotation_range=40,\r\n",
        "                                   width_shift_range=0.2,\r\n",
        "                                   height_shift_range=0.2,\r\n",
        "                                   shear_range=0.2,\r\n",
        "                                   zoom_range=0.2,\r\n",
        "                                   horizontal_flip=True,)\r\n",
        "\r\n",
        "test_datagen = ImageDataGenerator(rescale=1./255)\r\n",
        "\r\n",
        "train_generator = train_datagen.flow_from_directory(train_dir,\r\n",
        "                                                    target_size=(150, 150),\r\n",
        "                                                    batch_size=20,\r\n",
        "                                                    class_mode='binary')\r\n",
        "\r\n",
        "validation_generator = test_datagen.flow_from_directory(validation_dir,\r\n",
        "                                                        target_size=(150, 150),\r\n",
        "                                                        batch_size=20,\r\n",
        "                                                        class_mode='binary')\r\n",
        "\r\n",
        "history = model.fit_generator(train_generator,\r\n",
        "                              steps_per_epoch=100,\r\n",
        "                              epochs=20,\r\n",
        "                              validation_data=validation_generator,\r\n",
        "                              validation_steps=50,\r\n",
        "                              callbacks=callbacks)"
      ],
      "execution_count": null,
      "outputs": [
        {
          "output_type": "stream",
          "text": [
            "Found 2000 images belonging to 2 classes.\n",
            "Found 1000 images belonging to 2 classes.\n"
          ],
          "name": "stdout"
        },
        {
          "output_type": "stream",
          "text": [
            "/usr/local/lib/python3.7/dist-packages/tensorflow/python/keras/engine/training.py:1844: UserWarning: `Model.fit_generator` is deprecated and will be removed in a future version. Please use `Model.fit`, which supports generators.\n",
            "  warnings.warn('`Model.fit_generator` is deprecated and '\n"
          ],
          "name": "stderr"
        },
        {
          "output_type": "stream",
          "text": [
            "Epoch 1/20\n",
            "100/100 [==============================] - 17s 175ms/step - loss: 0.7056 - accuracy: 0.7285 - val_loss: 0.7089 - val_accuracy: 0.6360\n",
            "Epoch 2/20\n",
            "100/100 [==============================] - 17s 175ms/step - loss: 0.7039 - accuracy: 0.7303 - val_loss: 0.7086 - val_accuracy: 0.6335\n",
            "Epoch 3/20\n",
            "100/100 [==============================] - 18s 177ms/step - loss: 0.7029 - accuracy: 0.7487 - val_loss: 0.7067 - val_accuracy: 0.6430\n",
            "Epoch 4/20\n",
            "100/100 [==============================] - 18s 178ms/step - loss: 0.7037 - accuracy: 0.7318 - val_loss: 0.7062 - val_accuracy: 0.6435\n",
            "Epoch 5/20\n",
            "100/100 [==============================] - 18s 176ms/step - loss: 0.7043 - accuracy: 0.7480 - val_loss: 0.7073 - val_accuracy: 0.6555\n",
            "Epoch 6/20\n",
            "100/100 [==============================] - 18s 175ms/step - loss: 0.7024 - accuracy: 0.7427 - val_loss: 0.7048 - val_accuracy: 0.6590\n",
            "Epoch 7/20\n",
            "100/100 [==============================] - 18s 176ms/step - loss: 0.7030 - accuracy: 0.7395 - val_loss: 0.7049 - val_accuracy: 0.6395\n",
            "Epoch 8/20\n",
            "100/100 [==============================] - 18s 177ms/step - loss: 0.7042 - accuracy: 0.7340 - val_loss: 0.7043 - val_accuracy: 0.6560\n",
            "Epoch 9/20\n",
            "100/100 [==============================] - 18s 176ms/step - loss: 0.7025 - accuracy: 0.7473 - val_loss: 0.7031 - val_accuracy: 0.6560\n",
            "Epoch 10/20\n",
            "100/100 [==============================] - 17s 175ms/step - loss: 0.7030 - accuracy: 0.7467 - val_loss: 0.7025 - val_accuracy: 0.6470\n",
            "Epoch 11/20\n",
            "100/100 [==============================] - 18s 176ms/step - loss: 0.7028 - accuracy: 0.7383 - val_loss: 0.7021 - val_accuracy: 0.6450\n",
            "Epoch 12/20\n",
            "100/100 [==============================] - ETA: 0s - loss: 0.7024 - accuracy: 0.7398"
          ],
          "name": "stdout"
        }
      ]
    },
    {
      "cell_type": "code",
      "metadata": {
        "colab": {
          "base_uri": "https://localhost:8080/"
        },
        "id": "ZCA9hssxFs3-",
        "outputId": "5eae493d-5331-4856-a6e2-94aff63bd83e"
      },
      "source": [
        "### stick with this model with optimised learning rate, additional batch normalisation and dropout on each layer. \r\n",
        "\r\n",
        "\r\n",
        "model = models.Sequential()\r\n",
        "model.add(layers.Conv2D(32, (3, 3), activation='relu',\r\n",
        "input_shape=(150, 150, 3)))\r\n",
        "model.add(BatchNormalization())\r\n",
        "model.add(layers.MaxPooling2D((2, 2)))\r\n",
        "model.add(layers.Dropout(0.25))\r\n",
        "model.add(layers.Conv2D(64, (3, 3), activation='relu'))\r\n",
        "model.add(BatchNormalization())\r\n",
        "model.add(layers.MaxPooling2D((2, 2)))\r\n",
        "model.add(layers.Dropout(0.25))\r\n",
        "model.add(layers.Conv2D(128, (3, 3), activation='relu'))\r\n",
        "model.add(BatchNormalization())\r\n",
        "model.add(layers.MaxPooling2D((2, 2)))\r\n",
        "model.add(layers.Dropout(0.25))\r\n",
        "model.add(layers.Conv2D(128, (3, 3), activation='relu'))\r\n",
        "model.add(BatchNormalization())\r\n",
        "model.add(layers.MaxPooling2D((2, 2)))\r\n",
        "model.add(layers.Flatten())\r\n",
        "model.add(layers.Dense(512, activation='relu'))\r\n",
        "model.add(BatchNormalization())\r\n",
        "model.add(layers.Dropout(0.5))\r\n",
        "model.add(layers.Dense(1, activation='sigmoid'))\r\n",
        "model.summary()\r\n",
        "\r\n",
        "from keras.callbacks import EarlyStopping, ReduceLROnPlateau\r\n",
        "earlystop = EarlyStopping(patience = 15)\r\n",
        "learning_rate_reduction = ReduceLROnPlateau(patience = 2,verbose = 1,factor = 0.5,min_lr = 0.00001)\r\n",
        "callbacks = [earlystop,learning_rate_reduction]\r\n",
        "\r\n",
        "\r\n",
        "model.compile(loss='categorical_crossentropy',\r\n",
        "              optimizer='rmsprop',\r\n",
        "              metrics=['accuracy'])"
      ],
      "execution_count": 72,
      "outputs": [
        {
          "output_type": "stream",
          "text": [
            "Model: \"sequential_32\"\n",
            "_________________________________________________________________\n",
            "Layer (type)                 Output Shape              Param #   \n",
            "=================================================================\n",
            "conv2d_125 (Conv2D)          (None, 148, 148, 32)      896       \n",
            "_________________________________________________________________\n",
            "batch_normalization_54 (Batc (None, 148, 148, 32)      128       \n",
            "_________________________________________________________________\n",
            "max_pooling2d_125 (MaxPoolin (None, 74, 74, 32)        0         \n",
            "_________________________________________________________________\n",
            "dropout_62 (Dropout)         (None, 74, 74, 32)        0         \n",
            "_________________________________________________________________\n",
            "conv2d_126 (Conv2D)          (None, 72, 72, 64)        18496     \n",
            "_________________________________________________________________\n",
            "batch_normalization_55 (Batc (None, 72, 72, 64)        256       \n",
            "_________________________________________________________________\n",
            "max_pooling2d_126 (MaxPoolin (None, 36, 36, 64)        0         \n",
            "_________________________________________________________________\n",
            "dropout_63 (Dropout)         (None, 36, 36, 64)        0         \n",
            "_________________________________________________________________\n",
            "conv2d_127 (Conv2D)          (None, 34, 34, 128)       73856     \n",
            "_________________________________________________________________\n",
            "batch_normalization_56 (Batc (None, 34, 34, 128)       512       \n",
            "_________________________________________________________________\n",
            "max_pooling2d_127 (MaxPoolin (None, 17, 17, 128)       0         \n",
            "_________________________________________________________________\n",
            "dropout_64 (Dropout)         (None, 17, 17, 128)       0         \n",
            "_________________________________________________________________\n",
            "conv2d_128 (Conv2D)          (None, 15, 15, 128)       147584    \n",
            "_________________________________________________________________\n",
            "batch_normalization_57 (Batc (None, 15, 15, 128)       512       \n",
            "_________________________________________________________________\n",
            "max_pooling2d_128 (MaxPoolin (None, 7, 7, 128)         0         \n",
            "_________________________________________________________________\n",
            "flatten_32 (Flatten)         (None, 6272)              0         \n",
            "_________________________________________________________________\n",
            "dense_64 (Dense)             (None, 512)               3211776   \n",
            "_________________________________________________________________\n",
            "batch_normalization_58 (Batc (None, 512)               2048      \n",
            "_________________________________________________________________\n",
            "dropout_65 (Dropout)         (None, 512)               0         \n",
            "_________________________________________________________________\n",
            "dense_65 (Dense)             (None, 1)                 513       \n",
            "=================================================================\n",
            "Total params: 3,456,577\n",
            "Trainable params: 3,454,849\n",
            "Non-trainable params: 1,728\n",
            "_________________________________________________________________\n"
          ],
          "name": "stdout"
        }
      ]
    },
    {
      "cell_type": "code",
      "metadata": {
        "colab": {
          "base_uri": "https://localhost:8080/"
        },
        "id": "50y-0ZhKGG2O",
        "outputId": "768f1042-575d-4e6c-c95d-5a04a413329a"
      },
      "source": [
        "\r\n",
        "train_datagen = ImageDataGenerator(rescale=1./255,\r\n",
        "                                   rotation_range=40,\r\n",
        "                                   width_shift_range=0.2,\r\n",
        "                                   height_shift_range=0.2,\r\n",
        "                                   shear_range=0.2,\r\n",
        "                                   zoom_range=0.2,\r\n",
        "                                   horizontal_flip=True,)\r\n",
        "\r\n",
        "test_datagen = ImageDataGenerator(rescale=1./255)\r\n",
        "\r\n",
        "train_generator = train_datagen.flow_from_directory(train_dir,\r\n",
        "                                                    target_size=(150, 150),\r\n",
        "                                                    batch_size=20,\r\n",
        "                                                    class_mode='binary')\r\n",
        "\r\n",
        "validation_generator = test_datagen.flow_from_directory(validation_dir,\r\n",
        "                                                        target_size=(150, 150),\r\n",
        "                                                        batch_size=20,\r\n",
        "                                                        class_mode='binary')\r\n",
        "\r\n",
        "history = model.fit_generator(train_generator,\r\n",
        "                              steps_per_epoch=100,\r\n",
        "                              epochs=20,\r\n",
        "                              validation_data=validation_generator,\r\n",
        "                              validation_steps=50,\r\n",
        "                              callbacks=callbacks)"
      ],
      "execution_count": 78,
      "outputs": [
        {
          "output_type": "stream",
          "text": [
            "Found 2000 images belonging to 2 classes.\n",
            "Found 1000 images belonging to 2 classes.\n"
          ],
          "name": "stdout"
        },
        {
          "output_type": "stream",
          "text": [
            "/usr/local/lib/python3.7/dist-packages/tensorflow/python/keras/engine/training.py:1844: UserWarning: `Model.fit_generator` is deprecated and will be removed in a future version. Please use `Model.fit`, which supports generators.\n",
            "  warnings.warn('`Model.fit_generator` is deprecated and '\n"
          ],
          "name": "stderr"
        },
        {
          "output_type": "stream",
          "text": [
            "Epoch 1/20\n",
            "100/100 [==============================] - 17s 173ms/step - loss: 0.0000e+00 - accuracy: 0.6980 - val_loss: 0.0000e+00 - val_accuracy: 0.5840\n",
            "Epoch 2/20\n",
            "100/100 [==============================] - 17s 174ms/step - loss: 0.0000e+00 - accuracy: 0.7165 - val_loss: 0.0000e+00 - val_accuracy: 0.6180\n",
            "Epoch 3/20\n",
            "100/100 [==============================] - 17s 175ms/step - loss: 0.0000e+00 - accuracy: 0.7000 - val_loss: 0.0000e+00 - val_accuracy: 0.6270\n",
            "\n",
            "Epoch 00003: ReduceLROnPlateau reducing learning rate to 0.0005000000237487257.\n",
            "Epoch 4/20\n",
            "100/100 [==============================] - 17s 173ms/step - loss: 0.0000e+00 - accuracy: 0.7330 - val_loss: 0.0000e+00 - val_accuracy: 0.6270\n",
            "Epoch 5/20\n",
            "100/100 [==============================] - 17s 174ms/step - loss: 0.0000e+00 - accuracy: 0.7210 - val_loss: 0.0000e+00 - val_accuracy: 0.6420\n",
            "\n",
            "Epoch 00005: ReduceLROnPlateau reducing learning rate to 0.0002500000118743628.\n",
            "Epoch 6/20\n",
            "100/100 [==============================] - 17s 174ms/step - loss: 0.0000e+00 - accuracy: 0.7355 - val_loss: 0.0000e+00 - val_accuracy: 0.6980\n",
            "Epoch 7/20\n",
            "100/100 [==============================] - 17s 174ms/step - loss: 0.0000e+00 - accuracy: 0.7385 - val_loss: 0.0000e+00 - val_accuracy: 0.7470\n",
            "\n",
            "Epoch 00007: ReduceLROnPlateau reducing learning rate to 0.0001250000059371814.\n",
            "Epoch 8/20\n",
            "100/100 [==============================] - 18s 175ms/step - loss: 0.0000e+00 - accuracy: 0.7375 - val_loss: 0.0000e+00 - val_accuracy: 0.7590\n",
            "Epoch 9/20\n",
            "100/100 [==============================] - 18s 177ms/step - loss: 0.0000e+00 - accuracy: 0.7310 - val_loss: 0.0000e+00 - val_accuracy: 0.7510\n",
            "\n",
            "Epoch 00009: ReduceLROnPlateau reducing learning rate to 6.25000029685907e-05.\n",
            "Epoch 10/20\n",
            "100/100 [==============================] - 18s 176ms/step - loss: 0.0000e+00 - accuracy: 0.7425 - val_loss: 0.0000e+00 - val_accuracy: 0.7650\n",
            "Epoch 11/20\n",
            "100/100 [==============================] - 18s 177ms/step - loss: 0.0000e+00 - accuracy: 0.7530 - val_loss: 0.0000e+00 - val_accuracy: 0.7780\n",
            "\n",
            "Epoch 00011: ReduceLROnPlateau reducing learning rate to 3.125000148429535e-05.\n",
            "Epoch 12/20\n",
            "100/100 [==============================] - 17s 175ms/step - loss: 0.0000e+00 - accuracy: 0.7490 - val_loss: 0.0000e+00 - val_accuracy: 0.7660\n",
            "Epoch 13/20\n",
            "100/100 [==============================] - 17s 174ms/step - loss: 0.0000e+00 - accuracy: 0.7375 - val_loss: 0.0000e+00 - val_accuracy: 0.7750\n",
            "\n",
            "Epoch 00013: ReduceLROnPlateau reducing learning rate to 1.5625000742147677e-05.\n",
            "Epoch 14/20\n",
            "100/100 [==============================] - 17s 174ms/step - loss: 0.0000e+00 - accuracy: 0.7525 - val_loss: 0.0000e+00 - val_accuracy: 0.7670\n",
            "Epoch 15/20\n",
            "100/100 [==============================] - 17s 173ms/step - loss: 0.0000e+00 - accuracy: 0.7610 - val_loss: 0.0000e+00 - val_accuracy: 0.7710\n",
            "\n",
            "Epoch 00015: ReduceLROnPlateau reducing learning rate to 1e-05.\n",
            "Epoch 16/20\n",
            "100/100 [==============================] - 17s 174ms/step - loss: 0.0000e+00 - accuracy: 0.7525 - val_loss: 0.0000e+00 - val_accuracy: 0.7740\n"
          ],
          "name": "stdout"
        }
      ]
    },
    {
      "cell_type": "code",
      "metadata": {
        "colab": {
          "base_uri": "https://localhost:8080/",
          "height": 562
        },
        "id": "kcO3w1tiKqqI",
        "outputId": "db4d71a7-6b57-4d1b-88ae-8656c51208e5"
      },
      "source": [
        "model.save('cats_and_dogs_me')\r\n",
        "\r\n",
        "import matplotlib.pyplot as plt\r\n",
        "\r\n",
        "acc = history.history['accuracy']\r\n",
        "val_acc = history.history['val_accuracy']\r\n",
        "loss = history.history['loss']\r\n",
        "val_loss = history.history['val_loss']\r\n",
        "\r\n",
        "epochs = range(1, len(acc) + 1)\r\n",
        "\r\n",
        "plt.plot(epochs, acc, 'bo', label='Training acc')\r\n",
        "plt.plot(epochs, val_acc, 'b', label='Validation acc')\r\n",
        "plt.title('Training and validation accuracy')\r\n",
        "plt.legend()\r\n",
        "\r\n",
        "plt.figure()\r\n",
        "\r\n",
        "plt.plot(epochs, loss, 'bo', label='Training loss')\r\n",
        "plt.plot(epochs, val_loss, 'b', label='Validation loss')\r\n",
        "plt.title('Training and validation loss')\r\n",
        "plt.legend()\r\n",
        "\r\n",
        "plt.show()"
      ],
      "execution_count": 82,
      "outputs": [
        {
          "output_type": "stream",
          "text": [
            "INFO:tensorflow:Assets written to: cats_and_dogs_me/assets\n"
          ],
          "name": "stdout"
        },
        {
          "output_type": "display_data",
          "data": {
            "image/png": "[encoded data removed]",
            "text/plain": [
              "<Figure size 432x288 with 1 Axes>"
            ]
          },
          "metadata": {
            "tags": [],
            "needs_background": "light"
          }
        },
        {
          "output_type": "display_data",
          "data": {
            "image/png": "[encoded data removed]",
            "text/plain": [
              "<Figure size 432x288 with 1 Axes>"
            ]
          },
          "metadata": {
            "tags": [],
            "needs_background": "light"
          }
        }
      ]
    }
  ]
}