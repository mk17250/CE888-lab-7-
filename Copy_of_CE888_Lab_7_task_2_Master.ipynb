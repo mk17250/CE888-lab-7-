{
  "nbformat": 4,
  "nbformat_minor": 0,
  "metadata": {
    "colab": {
      "name": "Copy of CE888 Lab 7 - task 2 Master.ipynb",
      "provenance": []
    },
    "kernelspec": {
      "name": "python3",
      "display_name": "Python 3"
    },
    "accelerator": "GPU"
  },
  "cells": [
    {
      "cell_type": "markdown",
      "metadata": {
        "id": "qTh9DiKVslsJ"
      },
      "source": [
        "## Dogs vs. Cats \n",
        "\n",
        "In this competition, you'll write an algorithm to classify whether images contain either a dog or a cat.  This is easy for humans, dogs, and cats. Your computer will find it a bit more difficult.\n",
        "\n",
        "![alt text](https://miro.medium.com/max/3000/1*bhFifratH9DjKqMBTeQG5A.gif)\n",
        "\n",
        "Ref: https://medium.com/@thegrigorian/rolling-in-the-deep-cnn-c8d3f7108c8c"
      ]
    },
    {
      "cell_type": "markdown",
      "metadata": {
        "id": "RSBI-_mSSY1g"
      },
      "source": [
        "Get your API Key from Kaggle using following steps:\n",
        "1. Login to [Kaggle](https://www.kaggle.com/) or Register if you don't have account\n",
        "2. Open Dataset (https://www.kaggle.com/c/dogs-vs-cats/rules) and accept terms and condition. \n",
        "3. On the top right corner click on your Icon and go to accounts and press a button \"Create New API Token\". It will download a JSON file containing your username and key. \n",
        "4. Now, paste both below. \n"
      ]
    },
    {
      "cell_type": "code",
      "metadata": {
        "id": "YmXSOc0tZIGA",
        "colab": {
          "base_uri": "https://localhost:8080/"
        },
        "outputId": "658aa311-6964-425f-bdce-7985651d105b"
      },
      "source": [
        "import os\n",
        "os.environ['KAGGLE_USERNAME'] = \"dmachlanski\" # username from the json file\n",
        "os.environ['KAGGLE_KEY'] = \"242709514d75a604ad60314c0947ddd5\" # key from the json file\n",
        "!kaggle competitions download -c dogs-vs-cats # api copied from kaggle (https://www.kaggle.com/c/dogs-vs-cats/data)"
      ],
      "execution_count": 1,
      "outputs": [
        {
          "output_type": "stream",
          "text": [
            "Warning: Looks like you're using an outdated API Version, please consider updating (server 1.5.10 / client 1.5.4)\n",
            "Downloading sampleSubmission.csv to /content\n",
            "  0% 0.00/86.8k [00:00<?, ?B/s]\n",
            "100% 86.8k/86.8k [00:00<00:00, 27.2MB/s]\n",
            "Downloading train.zip to /content\n",
            "100% 541M/543M [00:09<00:00, 80.8MB/s]\n",
            "100% 543M/543M [00:09<00:00, 60.8MB/s]\n",
            "Downloading test1.zip to /content\n",
            "100% 270M/271M [00:07<00:00, 37.2MB/s]\n",
            "100% 271M/271M [00:07<00:00, 39.0MB/s]\n"
          ],
          "name": "stdout"
        }
      ]
    },
    {
      "cell_type": "code",
      "metadata": {
        "id": "PiwIL8d1n7eS",
        "colab": {
          "base_uri": "https://localhost:8080/"
        },
        "outputId": "e781fec3-3a78-4f20-e2f4-906d488419b7"
      },
      "source": [
        "# Unzip training data\n",
        "from zipfile import ZipFile\n",
        "file_name = \"/content/train.zip\"\n",
        "with ZipFile(file_name, 'r') as zip:\n",
        "  zip.extractall()\n",
        "  print('done')"
      ],
      "execution_count": 2,
      "outputs": [
        {
          "output_type": "stream",
          "text": [
            "done\n"
          ],
          "name": "stdout"
        }
      ]
    },
    {
      "cell_type": "code",
      "metadata": {
        "id": "sa2Bj5i7pPKV",
        "colab": {
          "base_uri": "https://localhost:8080/"
        },
        "outputId": "cc185928-bc7b-4df8-edfc-ae6da36a7870"
      },
      "source": [
        "# Get all the paths\n",
        "data_dir_list = os.listdir('/content/train')\n",
        "#print(data_dir_list)\n",
        "path, dirs, files = next(os.walk(\"/content/train\"))\n",
        "file_count = len(files)\n",
        "print(file_count)"
      ],
      "execution_count": 3,
      "outputs": [
        {
          "output_type": "stream",
          "text": [
            "25000\n"
          ],
          "name": "stdout"
        }
      ]
    },
    {
      "cell_type": "code",
      "metadata": {
        "id": "0ERlHkfHqpK8"
      },
      "source": [
        "# Make new base directory\n",
        "original_dataset_dir = '/content/train'\n",
        "base_dir = '/content/cats_and_dogs_small'\n",
        "os.mkdir(base_dir)"
      ],
      "execution_count": 4,
      "outputs": []
    },
    {
      "cell_type": "code",
      "metadata": {
        "id": "AANB1UJ6rQhM"
      },
      "source": [
        "train_dir = os.path.join(base_dir, 'train')\n",
        "os.mkdir(train_dir)\n",
        "\n",
        "validation_dir = os.path.join(base_dir, 'validation')\n",
        "os.mkdir(validation_dir)\n",
        "\n",
        "test_dir = os.path.join(base_dir, 'test')\n",
        "os.mkdir(test_dir)\n",
        "\n",
        "train_cats_dir = os.path.join(train_dir, 'cats')\n",
        "os.mkdir(train_cats_dir)\n",
        "\n",
        "train_dogs_dir = os.path.join(train_dir, 'dogs')\n",
        "os.mkdir(train_dogs_dir)\n",
        "\n",
        "validation_cats_dir = os.path.join(validation_dir, 'cats')\n",
        "os.mkdir(validation_cats_dir)\n",
        "\n",
        "validation_dogs_dir = os.path.join(validation_dir, 'dogs')\n",
        "os.mkdir(validation_dogs_dir)\n",
        "\n",
        "test_cats_dir = os.path.join(test_dir, 'cats')\n",
        "os.mkdir(test_cats_dir)\n",
        "\n",
        "test_dogs_dir = os.path.join(test_dir, 'dogs')\n",
        "os.mkdir(test_dogs_dir)"
      ],
      "execution_count": 5,
      "outputs": []
    },
    {
      "cell_type": "code",
      "metadata": {
        "id": "ULRgL9s9rV8T"
      },
      "source": [
        "import shutil\n",
        "fnames = ['cat.{}.jpg'.format(i) for i in range(1000)]\n",
        "for fname in fnames:\n",
        "    src = os.path.join(original_dataset_dir, fname)\n",
        "    dst = os.path.join(train_cats_dir, fname)\n",
        "    #print(src,dst)\n",
        "    shutil.copyfile(src, dst)\n",
        "    \n",
        "fnames = ['cat.{}.jpg'.format(i) for i in range(1000, 1500)]\n",
        "for fname in fnames:\n",
        "    src = os.path.join(original_dataset_dir, fname)\n",
        "    dst = os.path.join(validation_cats_dir, fname)\n",
        "    shutil.copyfile(src, dst)\n",
        "\n",
        "fnames = ['cat.{}.jpg'.format(i) for i in range(1500, 2000)]\n",
        "for fname in fnames:\n",
        "    src = os.path.join(original_dataset_dir, fname)\n",
        "    dst = os.path.join(test_cats_dir, fname)\n",
        "    shutil.copyfile(src, dst)\n",
        "    \n",
        "fnames = ['dog.{}.jpg'.format(i) for i in range(1000)]\n",
        "for fname in fnames:\n",
        "    src = os.path.join(original_dataset_dir, fname)\n",
        "    dst = os.path.join(train_dogs_dir, fname)\n",
        "    shutil.copyfile(src, dst)\n",
        "\n",
        "fnames = ['dog.{}.jpg'.format(i) for i in range(1000, 1500)]\n",
        "for fname in fnames:\n",
        "    src = os.path.join(original_dataset_dir, fname)\n",
        "    dst = os.path.join(validation_dogs_dir, fname)\n",
        "    shutil.copyfile(src, dst)\n",
        "\n",
        "fnames = ['dog.{}.jpg'.format(i) for i in range(1500, 2000)]\n",
        "for fname in fnames:\n",
        "    src = os.path.join(original_dataset_dir, fname)\n",
        "    dst = os.path.join(test_dogs_dir, fname)\n",
        "    shutil.copyfile(src, dst)"
      ],
      "execution_count": 6,
      "outputs": []
    },
    {
      "cell_type": "code",
      "metadata": {
        "id": "ul3XAbIyr7vC",
        "colab": {
          "base_uri": "https://localhost:8080/"
        },
        "outputId": "5ae54b9c-2147-4296-e2b9-f9233798f95c"
      },
      "source": [
        "print('total training cat images:', len(os.listdir(train_cats_dir)))\n",
        "print('total training dog images:', len(os.listdir(train_dogs_dir)))\n",
        "print('total validation cat images:', len(os.listdir(validation_cats_dir)))\n",
        "\n",
        "print('total validation dog images:', len(os.listdir(validation_dogs_dir)))\n",
        "print('total test cat images:', len(os.listdir(test_cats_dir)))\n",
        "print('total test dog images:', len(os.listdir(test_dogs_dir)))"
      ],
      "execution_count": 7,
      "outputs": [
        {
          "output_type": "stream",
          "text": [
            "total training cat images: 1000\n",
            "total training dog images: 1000\n",
            "total validation cat images: 500\n",
            "total validation dog images: 500\n",
            "total test cat images: 500\n",
            "total test dog images: 500\n"
          ],
          "name": "stdout"
        }
      ]
    },
    {
      "cell_type": "code",
      "metadata": {
        "id": "o9yTA21_r-ma",
        "colab": {
          "base_uri": "https://localhost:8080/"
        },
        "outputId": "c3f25a8d-7e4e-4068-ec44-0d3b7ef37011"
      },
      "source": [
        "from keras import layers\n",
        "from keras import models\n",
        "\n",
        "model = models.Sequential()\n",
        "model.add(layers.Conv2D(32, (3, 3), activation='relu', input_shape=(150, 150, 3)))\n",
        "model.add(layers.MaxPooling2D((2, 2)))\n",
        "model.add(layers.Conv2D(64, (3, 3), activation='relu'))\n",
        "model.add(layers.MaxPooling2D((2, 2)))\n",
        "model.add(layers.Conv2D(128, (3, 3), activation='relu'))\n",
        "model.add(layers.MaxPooling2D((2, 2)))\n",
        "model.add(layers.Conv2D(128, (3, 3), activation='relu'))\n",
        "model.add(layers.MaxPooling2D((2, 2)))\n",
        "model.add(layers.Flatten())\n",
        "model.add(layers.Dense(512, activation='relu'))\n",
        "model.add(layers.Dense(1, activation='sigmoid'))\n",
        "model.summary()"
      ],
      "execution_count": 8,
      "outputs": [
        {
          "output_type": "stream",
          "text": [
            "Model: \"sequential\"\n",
            "_________________________________________________________________\n",
            "Layer (type)                 Output Shape              Param #   \n",
            "=================================================================\n",
            "conv2d (Conv2D)              (None, 148, 148, 32)      896       \n",
            "_________________________________________________________________\n",
            "max_pooling2d (MaxPooling2D) (None, 74, 74, 32)        0         \n",
            "_________________________________________________________________\n",
            "conv2d_1 (Conv2D)            (None, 72, 72, 64)        18496     \n",
            "_________________________________________________________________\n",
            "max_pooling2d_1 (MaxPooling2 (None, 36, 36, 64)        0         \n",
            "_________________________________________________________________\n",
            "conv2d_2 (Conv2D)            (None, 34, 34, 128)       73856     \n",
            "_________________________________________________________________\n",
            "max_pooling2d_2 (MaxPooling2 (None, 17, 17, 128)       0         \n",
            "_________________________________________________________________\n",
            "conv2d_3 (Conv2D)            (None, 15, 15, 128)       147584    \n",
            "_________________________________________________________________\n",
            "max_pooling2d_3 (MaxPooling2 (None, 7, 7, 128)         0         \n",
            "_________________________________________________________________\n",
            "flatten (Flatten)            (None, 6272)              0         \n",
            "_________________________________________________________________\n",
            "dense (Dense)                (None, 512)               3211776   \n",
            "_________________________________________________________________\n",
            "dense_1 (Dense)              (None, 1)                 513       \n",
            "=================================================================\n",
            "Total params: 3,453,121\n",
            "Trainable params: 3,453,121\n",
            "Non-trainable params: 0\n",
            "_________________________________________________________________\n"
          ],
          "name": "stdout"
        }
      ]
    },
    {
      "cell_type": "code",
      "metadata": {
        "id": "2mG8wekxsBVS"
      },
      "source": [
        "from keras import optimizers\n",
        "model.compile(loss='binary_crossentropy', \n",
        "              optimizer=optimizers.RMSprop(lr=1e-4),\n",
        "              metrics=['acc'])"
      ],
      "execution_count": 9,
      "outputs": []
    },
    {
      "cell_type": "markdown",
      "metadata": {
        "id": "7zS4Klm8qWp6"
      },
      "source": [
        "## Using ImageDataGenerator to read images from directories\n",
        "As you know by now, data should be formatted into appropriately preprocessed floatingpoint tensors before being fed into the network. Currently, the data sits on a drive as JPEG files, so the steps for getting it into the network are roughly as follows:\n",
        "\n",
        "* Read the picture files.\n",
        "* Decode the JPEG content to RGB grids of pixels.\n",
        "* Convert these into floating-point tensors.\n",
        "* Rescale the pixel values (between 0 and 255) to the [0, 1] interval (as you know, neural networks prefer to deal with small input values).\n",
        "\n",
        "It may seem a bit daunting, but fortunately Keras has utilities to take care of these steps automatically. Keras has a module with image-processing helper tools, located at keras.preprocessing.image. In particular, it contains the class ImageDataGenerator,which lets you quickly set up Python generators that can automatically turn image files on disk into batches of preprocessed tensors."
      ]
    },
    {
      "cell_type": "code",
      "metadata": {
        "id": "XJ7XU7t9sEh6",
        "colab": {
          "base_uri": "https://localhost:8080/"
        },
        "outputId": "10754e72-1254-4322-f2d5-9b15d67dbaec"
      },
      "source": [
        "from keras.preprocessing.image import ImageDataGenerator\n",
        "\n",
        "train_datagen = ImageDataGenerator(rescale=1./255)\n",
        "test_datagen = ImageDataGenerator(rescale=1./255)\n",
        "\n",
        "train_generator = train_datagen.flow_from_directory(train_dir,\n",
        "                                                    target_size=(150, 150), \n",
        "                                                    batch_size=20,\n",
        "                                                    class_mode='binary')\n",
        "\n",
        "validation_generator = test_datagen.flow_from_directory(validation_dir,\n",
        "                                                        target_size=(150, 150),\n",
        "                                                        batch_size=20,\n",
        "                                                        class_mode='binary')"
      ],
      "execution_count": 10,
      "outputs": [
        {
          "output_type": "stream",
          "text": [
            "Found 2000 images belonging to 2 classes.\n",
            "Found 1000 images belonging to 2 classes.\n"
          ],
          "name": "stdout"
        }
      ]
    },
    {
      "cell_type": "markdown",
      "metadata": {
        "id": "SEgLywySqm4u"
      },
      "source": [
        "Let’s fit the model to the data using the generator. You do so using the fit_generator method, the equivalent of fit for data generators like this one. It expects as its first argument a Python generator that will yield batches of inputs and targets indefinitely,like this one does. Because the data is being generated endlessly, the Keras model needs to know how many samples to draw from the generator before declaring anepoch over. This is the role of the `steps_per_epoch` argument: after having drawn `steps_per_epoch` batches from the generator—that is, after having run for `steps_per_epoch` gradient descent steps—the fitting process will go to the next epoch. In this case, batches are 20 samples, so it will take 100 batches until you see your target of 2,000 samples.\n",
        "\n",
        "When using fit_generator, you can pass a validation_data argument, much as with the fit method. It’s important to note that this argument is allowed to be a data generator, but it could also be a tuple of Numpy arrays. If you pass a generator as validation_data, then this generator is expected to yield batches of validation data endlessly; thus you should also specify the validation_steps argument, which tells the process how many batches to draw from the validation generator for evaluation."
      ]
    },
    {
      "cell_type": "code",
      "metadata": {
        "id": "yMyfPphJsJG6",
        "colab": {
          "base_uri": "https://localhost:8080/"
        },
        "outputId": "310c1d79-d0fa-4800-822f-b9ed811559f5"
      },
      "source": [
        "history = model.fit_generator(train_generator,\n",
        "                              steps_per_epoch=100,\n",
        "                              epochs=30,\n",
        "                              validation_data=validation_generator,\n",
        "                              validation_steps=10)"
      ],
      "execution_count": null,
      "outputs": [
        {
          "output_type": "stream",
          "text": [
            "/usr/local/lib/python3.7/dist-packages/tensorflow/python/keras/engine/training.py:1844: UserWarning: `Model.fit_generator` is deprecated and will be removed in a future version. Please use `Model.fit`, which supports generators.\n",
            "  warnings.warn('`Model.fit_generator` is deprecated and '\n"
          ],
          "name": "stderr"
        },
        {
          "output_type": "stream",
          "text": [
            "Epoch 1/30\n",
            "100/100 [==============================] - 40s 69ms/step - loss: 0.6925 - acc: 0.5238 - val_loss: 0.6761 - val_acc: 0.5750\n",
            "Epoch 2/30\n",
            "100/100 [==============================] - 7s 66ms/step - loss: 0.6612 - acc: 0.5875 - val_loss: 0.6778 - val_acc: 0.5800\n",
            "Epoch 3/30\n",
            "100/100 [==============================] - 7s 67ms/step - loss: 0.5979 - acc: 0.6660 - val_loss: 0.6654 - val_acc: 0.6000\n",
            "Epoch 4/30\n",
            "100/100 [==============================] - 7s 67ms/step - loss: 0.5695 - acc: 0.6876 - val_loss: 0.7336 - val_acc: 0.6250\n",
            "Epoch 5/30\n",
            "100/100 [==============================] - 7s 67ms/step - loss: 0.5311 - acc: 0.7201 - val_loss: 0.5735 - val_acc: 0.7000\n",
            "Epoch 6/30\n",
            "100/100 [==============================] - 7s 67ms/step - loss: 0.4864 - acc: 0.7650 - val_loss: 0.6470 - val_acc: 0.6600\n",
            "Epoch 7/30\n",
            "100/100 [==============================] - 7s 68ms/step - loss: 0.4748 - acc: 0.7694 - val_loss: 0.6248 - val_acc: 0.6550\n",
            "Epoch 8/30\n",
            "100/100 [==============================] - 7s 68ms/step - loss: 0.4410 - acc: 0.8010 - val_loss: 0.5385 - val_acc: 0.7200\n",
            "Epoch 9/30\n",
            "100/100 [==============================] - 7s 68ms/step - loss: 0.4299 - acc: 0.7999 - val_loss: 0.6291 - val_acc: 0.6950\n",
            "Epoch 10/30\n",
            "100/100 [==============================] - 7s 70ms/step - loss: 0.3997 - acc: 0.8158 - val_loss: 0.4912 - val_acc: 0.7250\n",
            "Epoch 11/30\n",
            "100/100 [==============================] - 7s 72ms/step - loss: 0.3827 - acc: 0.8316 - val_loss: 0.5458 - val_acc: 0.7100\n",
            "Epoch 12/30\n",
            "100/100 [==============================] - 7s 69ms/step - loss: 0.3458 - acc: 0.8529 - val_loss: 0.5593 - val_acc: 0.7350\n",
            "Epoch 13/30\n",
            "100/100 [==============================] - 7s 72ms/step - loss: 0.3289 - acc: 0.8638 - val_loss: 0.5452 - val_acc: 0.7500\n",
            "Epoch 14/30\n",
            "100/100 [==============================] - 7s 71ms/step - loss: 0.3068 - acc: 0.8702 - val_loss: 0.5178 - val_acc: 0.7550\n",
            "Epoch 15/30\n",
            "100/100 [==============================] - 7s 71ms/step - loss: 0.2649 - acc: 0.8888 - val_loss: 0.6825 - val_acc: 0.6850\n",
            "Epoch 16/30\n",
            "100/100 [==============================] - 7s 71ms/step - loss: 0.2899 - acc: 0.8835 - val_loss: 0.6815 - val_acc: 0.6800\n",
            "Epoch 17/30\n",
            "100/100 [==============================] - 7s 69ms/step - loss: 0.2478 - acc: 0.8958 - val_loss: 0.6178 - val_acc: 0.7100\n",
            "Epoch 18/30\n",
            "100/100 [==============================] - 7s 69ms/step - loss: 0.2222 - acc: 0.9166 - val_loss: 0.5975 - val_acc: 0.7600\n",
            "Epoch 19/30\n",
            "100/100 [==============================] - 7s 68ms/step - loss: 0.2114 - acc: 0.9255 - val_loss: 0.6813 - val_acc: 0.7200\n",
            "Epoch 20/30\n",
            "100/100 [==============================] - 7s 68ms/step - loss: 0.1735 - acc: 0.9342 - val_loss: 0.8635 - val_acc: 0.7000\n",
            "Epoch 21/30\n",
            "100/100 [==============================] - 7s 68ms/step - loss: 0.1601 - acc: 0.9493 - val_loss: 0.7275 - val_acc: 0.7450\n",
            "Epoch 22/30\n",
            "100/100 [==============================] - 7s 69ms/step - loss: 0.1600 - acc: 0.9387 - val_loss: 0.9154 - val_acc: 0.7200\n",
            "Epoch 23/30\n",
            "100/100 [==============================] - 7s 69ms/step - loss: 0.1296 - acc: 0.9531 - val_loss: 0.7117 - val_acc: 0.7600\n",
            "Epoch 24/30\n",
            "100/100 [==============================] - 7s 68ms/step - loss: 0.1144 - acc: 0.9697 - val_loss: 0.8571 - val_acc: 0.7000\n",
            "Epoch 25/30\n",
            "100/100 [==============================] - 7s 68ms/step - loss: 0.1214 - acc: 0.9596 - val_loss: 0.8301 - val_acc: 0.7300\n",
            "Epoch 26/30\n",
            "100/100 [==============================] - 7s 67ms/step - loss: 0.0856 - acc: 0.9817 - val_loss: 0.8390 - val_acc: 0.7400\n",
            "Epoch 27/30\n",
            "100/100 [==============================] - 7s 70ms/step - loss: 0.0951 - acc: 0.9736 - val_loss: 0.8184 - val_acc: 0.7500\n",
            "Epoch 28/30\n",
            "100/100 [==============================] - 7s 68ms/step - loss: 0.0666 - acc: 0.9830 - val_loss: 0.6579 - val_acc: 0.7600\n",
            "Epoch 29/30\n",
            "100/100 [==============================] - 7s 68ms/step - loss: 0.0614 - acc: 0.9818 - val_loss: 1.0944 - val_acc: 0.7250\n",
            "Epoch 30/30\n",
            "100/100 [==============================] - 7s 68ms/step - loss: 0.0642 - acc: 0.9773 - val_loss: 1.0768 - val_acc: 0.6950\n"
          ],
          "name": "stdout"
        }
      ]
    },
    {
      "cell_type": "code",
      "metadata": {
        "id": "MZaZ2HWZsNUi",
        "colab": {
          "base_uri": "https://localhost:8080/",
          "height": 545
        },
        "outputId": "491cce6f-3253-46a1-bde4-dc930a59915a"
      },
      "source": [
        "model.save('cats_and_dogs_small_1.h5')\n",
        "\n",
        "import matplotlib.pyplot as plt\n",
        "\n",
        "acc = history.history['acc']\n",
        "val_acc = history.history['val_acc']\n",
        "loss = history.history['loss']\n",
        "val_loss = history.history['val_loss']\n",
        "\n",
        "epochs = range(1, len(acc) + 1)\n",
        "\n",
        "plt.plot(epochs, acc, 'bo', label='Training acc')\n",
        "plt.plot(epochs, val_acc, 'b', label='Validation acc')\n",
        "plt.title('Training and validation accuracy')\n",
        "plt.legend()\n",
        "\n",
        "plt.figure()\n",
        "\n",
        "plt.plot(epochs, loss, 'bo', label='Training loss')\n",
        "plt.plot(epochs, val_loss, 'b', label='Validation loss')\n",
        "plt.title('Training and validation loss')\n",
        "plt.legend()\n",
        "\n",
        "plt.show()"
      ],
      "execution_count": null,
      "outputs": [
        {
          "output_type": "display_data",
          "data": {
            "image/png": "[encoded data removed]",
            "text/plain": [
              "<Figure size 432x288 with 1 Axes>"
            ]
          },
          "metadata": {
            "tags": [],
            "needs_background": "light"
          }
        },
        {
          "output_type": "display_data",
          "data": {
            "image/png": "[encoded data removed]",
            "text/plain": [
              "<Figure size 432x288 with 1 Axes>"
            ]
          },
          "metadata": {
            "tags": [],
            "needs_background": "light"
          }
        }
      ]
    },
    {
      "cell_type": "markdown",
      "metadata": {
        "id": "XKZmXmBcq_8-"
      },
      "source": [
        "## Convolutional Networks with Dropout\n",
        "\n",
        "![alt text](https://camo.githubusercontent.com/ee6fa1073247cd2c3d241300caf110d7a7541bc5/68747470733a2f2f63646e2d696d616765732d312e6d656469756d2e636f6d2f6d61782f3830302f312a4972644a355067684439596f4f7956415137334d4a772e676966)\n",
        "\n",
        "Ref: https://github.com/mneha4/Training-Neural-Nets---Guidelines"
      ]
    },
    {
      "cell_type": "code",
      "metadata": {
        "id": "wu3cqeYQrDeN"
      },
      "source": [
        "from keras.layers import BatchNormalization, Activation\n",
        "\n",
        "model = models.Sequential()\n",
        "model.add(layers.Conv2D(32, (3, 3), activation='relu', input_shape=(150, 150, 3)))\n",
        "model.add(BatchNormalization())\n",
        "model.add(layers.MaxPooling2D((2, 2)))\n",
        "model.add(BatchNormalization())\n",
        "model.add(layers.Conv2D(64, (3, 3), activation='relu'))\n",
        "model.add(BatchNormalization())\n",
        "model.add(layers.MaxPooling2D((2, 2)))\n",
        "model.add(BatchNormalization())\n",
        "model.add(layers.Conv2D(128, (3, 3), activation='relu'))\n",
        "model.add(BatchNormalization())\n",
        "model.add(layers.MaxPooling2D((2, 2)))\n",
        "model.add(BatchNormalization())\n",
        "model.add(layers.Conv2D(128, (3, 3), activation='relu'))\n",
        "model.add(BatchNormalization())\n",
        "model.add(layers.MaxPooling2D((2, 2)))\n",
        "model.add(BatchNormalization())\n",
        "model.add(layers.Flatten())\n",
        "#model.add(layers.Dropout(0.25))\n",
        "model.add(layers.Dense(512, activation='relu'))\n",
        "model.add(BatchNormalization())\n",
        "model.add(layers.Dense(1, activation='sigmoid'))\n",
        "\n",
        "model.compile(loss='binary_crossentropy',\n",
        "              optimizer=optimizers.RMSprop(lr=1e-5),\n",
        "              metrics=['acc'])"
      ],
      "execution_count": 17,
      "outputs": []
    },
    {
      "cell_type": "code",
      "metadata": {
        "id": "QSeLpvY0rH7F",
        "colab": {
          "base_uri": "https://localhost:8080/"
        },
        "outputId": "ae650621-c7c5-4d2b-d8a9-a539a63f54e1"
      },
      "source": [
        "\n",
        "train_datagen = ImageDataGenerator(rescale=1./255,\n",
        "                                   rotation_range=40,\n",
        "                                   width_shift_range=0.2,\n",
        "                                   height_shift_range=0.2,\n",
        "                                   shear_range=0.2,\n",
        "                                   zoom_range=0.2,\n",
        "                                   horizontal_flip=True,)\n",
        "\n",
        "test_datagen = ImageDataGenerator(rescale=1./255)\n",
        "\n",
        "train_generator = train_datagen.flow_from_directory(train_dir,\n",
        "                                                    target_size=(150, 150),\n",
        "                                                    batch_size=20,\n",
        "                                                    class_mode='binary')\n",
        "\n",
        "validation_generator = test_datagen.flow_from_directory(validation_dir,\n",
        "                                                        target_size=(150, 150),\n",
        "                                                        batch_size=20,\n",
        "                                                        class_mode='binary')\n",
        "\n",
        "history = model.fit_generator(train_generator,\n",
        "                              steps_per_epoch=100,\n",
        "                              epochs=20,\n",
        "                              validation_data=validation_generator,\n",
        "                              validation_steps=50)"
      ],
      "execution_count": 18,
      "outputs": [
        {
          "output_type": "stream",
          "text": [
            "Found 2000 images belonging to 2 classes.\n",
            "Found 1000 images belonging to 2 classes.\n"
          ],
          "name": "stdout"
        },
        {
          "output_type": "stream",
          "text": [
            "/usr/local/lib/python3.7/dist-packages/tensorflow/python/keras/engine/training.py:1844: UserWarning: `Model.fit_generator` is deprecated and will be removed in a future version. Please use `Model.fit`, which supports generators.\n",
            "  warnings.warn('`Model.fit_generator` is deprecated and '\n"
          ],
          "name": "stderr"
        },
        {
          "output_type": "stream",
          "text": [
            "Epoch 1/20\n",
            "100/100 [==============================] - 24s 221ms/step - loss: 0.8162 - acc: 0.5580 - val_loss: 0.8176 - val_acc: 0.5000\n",
            "Epoch 2/20\n",
            "100/100 [==============================] - 22s 218ms/step - loss: 0.8005 - acc: 0.5535 - val_loss: 0.7606 - val_acc: 0.5010\n",
            "Epoch 3/20\n",
            "100/100 [==============================] - 22s 218ms/step - loss: 0.7417 - acc: 0.5868 - val_loss: 0.8740 - val_acc: 0.5030\n",
            "Epoch 4/20\n",
            "100/100 [==============================] - 22s 216ms/step - loss: 0.7267 - acc: 0.6097 - val_loss: 0.7655 - val_acc: 0.5540\n",
            "Epoch 5/20\n",
            "100/100 [==============================] - 22s 216ms/step - loss: 0.6970 - acc: 0.6102 - val_loss: 0.6594 - val_acc: 0.6130\n",
            "Epoch 6/20\n",
            "100/100 [==============================] - 22s 216ms/step - loss: 0.6963 - acc: 0.6168 - val_loss: 0.6593 - val_acc: 0.6320\n",
            "Epoch 7/20\n",
            "100/100 [==============================] - 22s 218ms/step - loss: 0.6814 - acc: 0.6194 - val_loss: 0.6943 - val_acc: 0.6320\n",
            "Epoch 8/20\n",
            "100/100 [==============================] - 22s 217ms/step - loss: 0.6643 - acc: 0.6392 - val_loss: 0.7052 - val_acc: 0.6470\n",
            "Epoch 9/20\n",
            "100/100 [==============================] - 22s 217ms/step - loss: 0.6845 - acc: 0.6195 - val_loss: 0.7559 - val_acc: 0.6380\n",
            "Epoch 10/20\n",
            "100/100 [==============================] - 22s 218ms/step - loss: 0.6613 - acc: 0.6415 - val_loss: 0.7245 - val_acc: 0.6470\n",
            "Epoch 11/20\n",
            "100/100 [==============================] - 22s 218ms/step - loss: 0.6488 - acc: 0.6766 - val_loss: 0.7371 - val_acc: 0.6480\n",
            "Epoch 12/20\n",
            "100/100 [==============================] - 22s 217ms/step - loss: 0.6493 - acc: 0.6681 - val_loss: 0.7538 - val_acc: 0.6400\n",
            "Epoch 13/20\n",
            "100/100 [==============================] - 22s 218ms/step - loss: 0.6348 - acc: 0.6684 - val_loss: 0.7319 - val_acc: 0.6420\n",
            "Epoch 14/20\n",
            "100/100 [==============================] - 22s 218ms/step - loss: 0.6716 - acc: 0.6480 - val_loss: 0.6887 - val_acc: 0.6700\n",
            "Epoch 15/20\n",
            "100/100 [==============================] - 22s 217ms/step - loss: 0.6078 - acc: 0.6829 - val_loss: 0.7186 - val_acc: 0.6650\n",
            "Epoch 16/20\n",
            "100/100 [==============================] - 22s 218ms/step - loss: 0.6417 - acc: 0.6664 - val_loss: 0.7165 - val_acc: 0.6730\n",
            "Epoch 17/20\n",
            "100/100 [==============================] - 22s 219ms/step - loss: 0.5806 - acc: 0.7039 - val_loss: 0.6925 - val_acc: 0.6610\n",
            "Epoch 18/20\n",
            "100/100 [==============================] - 22s 218ms/step - loss: 0.5989 - acc: 0.6872 - val_loss: 0.7258 - val_acc: 0.6630\n",
            "Epoch 19/20\n",
            "100/100 [==============================] - 22s 218ms/step - loss: 0.6086 - acc: 0.6836 - val_loss: 0.6828 - val_acc: 0.6860\n",
            "Epoch 20/20\n",
            "100/100 [==============================] - 22s 218ms/step - loss: 0.5719 - acc: 0.7063 - val_loss: 0.6979 - val_acc: 0.6850\n"
          ],
          "name": "stdout"
        }
      ]
    },
    {
      "cell_type": "markdown",
      "metadata": {
        "id": "BRdU5yrkUF_b"
      },
      "source": [
        "# Task 2:\n",
        "\n",
        "We have used Dropout to enhance the performance of the CNN model. Can you please use whatever you like to further enhance the performance from `val_acc: 0.7506`? "
      ]
    },
    {
      "cell_type": "code",
      "metadata": {
        "id": "b1MjaasAplPg"
      },
      "source": [
        "from keras.layers import BatchNormalization\r\n",
        "from keras.optimizers import SGD\r\n",
        "\r\n",
        "model = models.Sequential()\r\n",
        "model.add(layers.Conv2D(32, (3, 3), activation='relu',\r\n",
        "input_shape=(150, 150, 3)))\r\n",
        "model.add(BatchNormalization())\r\n",
        "model.add(layers.MaxPooling2D((2, 2)))\r\n",
        "model.add(layers.Dropout(0.25))\r\n",
        "model.add(layers.Conv2D(64, (3, 3), activation='relu'))\r\n",
        "model.add(BatchNormalization())\r\n",
        "model.add(layers.MaxPooling2D((2, 2)))\r\n",
        "model.add(layers.Dropout(0.25))\r\n",
        "model.add(layers.Conv2D(128, (3, 3), activation='relu'))\r\n",
        "model.add(BatchNormalization())\r\n",
        "model.add(layers.MaxPooling2D((2, 2)))\r\n",
        "model.add(layers.Dropout(0.25))\r\n",
        "model.add(layers.Conv2D(128, (3, 3), activation='relu'))\r\n",
        "model.add(BatchNormalization())\r\n",
        "model.add(layers.MaxPooling2D((2, 2)))\r\n",
        "model.add(layers.Flatten())\r\n",
        "model.add(layers.Dense(512, activation='relu'))\r\n",
        "model.add(BatchNormalization())\r\n",
        "model.add(layers.Dropout(0.5))\r\n",
        "model.add(layers.Dense(1, activation='sigmoid'))\r\n",
        "#model.summary()\r\n",
        "\r\n",
        "from keras.callbacks import EarlyStopping, ReduceLROnPlateau\r\n",
        "earlystop = EarlyStopping(patience = 15)\r\n",
        "learning_rate_reduction = ReduceLROnPlateau(patience = 2,verbose = 1,factor = 0.5,min_lr = 0.00001)\r\n",
        "callbacks = [earlystop,learning_rate_reduction]\r\n",
        "\r\n",
        "model.compile(loss='categorical_crossentropy',\r\n",
        "              optimizer='rmsprop',\r\n",
        "              metrics=['accuracy'])\r\n"
      ],
      "execution_count": 11,
      "outputs": []
    },
    {
      "cell_type": "code",
      "metadata": {
        "colab": {
          "base_uri": "https://localhost:8080/"
        },
        "id": "OWoHQWHsNBpI",
        "outputId": "2034265b-514b-4f0d-92e2-3cc3cffc21b5"
      },
      "source": [
        "train_datagen = ImageDataGenerator(rescale=1./255,\r\n",
        "                                   rotation_range=40,\r\n",
        "                                   width_shift_range=0.2,\r\n",
        "                                   height_shift_range=0.2,\r\n",
        "                                   shear_range=0.2,\r\n",
        "                                   zoom_range=0.2,\r\n",
        "                                   horizontal_flip=True,)\r\n",
        "\r\n",
        "test_datagen = ImageDataGenerator(rescale=1./255)\r\n",
        "\r\n",
        "train_generator = train_datagen.flow_from_directory(train_dir,\r\n",
        "                                                    target_size=(150, 150),\r\n",
        "                                                    batch_size=20,\r\n",
        "                                                    class_mode='binary')\r\n",
        "\r\n",
        "validation_generator = test_datagen.flow_from_directory(validation_dir,\r\n",
        "                                                        target_size=(150, 150),\r\n",
        "                                                        batch_size=20,\r\n",
        "                                                        class_mode='binary')\r\n",
        "\r\n",
        "history = model.fit_generator(train_generator,\r\n",
        "                              steps_per_epoch=100,\r\n",
        "                              epochs=20,\r\n",
        "                              validation_data=validation_generator,\r\n",
        "                              validation_steps=50,\r\n",
        "                              callbacks=callbacks)"
      ],
      "execution_count": null,
      "outputs": [
        {
          "output_type": "stream",
          "text": [
            "Found 2000 images belonging to 2 classes.\n",
            "Found 1000 images belonging to 2 classes.\n"
          ],
          "name": "stdout"
        },
        {
          "output_type": "stream",
          "text": [
            "/usr/local/lib/python3.7/dist-packages/tensorflow/python/keras/engine/training.py:1844: UserWarning: `Model.fit_generator` is deprecated and will be removed in a future version. Please use `Model.fit`, which supports generators.\n",
            "  warnings.warn('`Model.fit_generator` is deprecated and '\n"
          ],
          "name": "stderr"
        },
        {
          "output_type": "stream",
          "text": [
            "Epoch 1/20\n",
            "100/100 [==============================] - 17s 175ms/step - loss: 0.7056 - accuracy: 0.7285 - val_loss: 0.7089 - val_accuracy: 0.6360\n",
            "Epoch 2/20\n",
            "100/100 [==============================] - 17s 175ms/step - loss: 0.7039 - accuracy: 0.7303 - val_loss: 0.7086 - val_accuracy: 0.6335\n",
            "Epoch 3/20\n",
            "100/100 [==============================] - 18s 177ms/step - loss: 0.7029 - accuracy: 0.7487 - val_loss: 0.7067 - val_accuracy: 0.6430\n",
            "Epoch 4/20\n",
            "100/100 [==============================] - 18s 178ms/step - loss: 0.7037 - accuracy: 0.7318 - val_loss: 0.7062 - val_accuracy: 0.6435\n",
            "Epoch 5/20\n",
            "100/100 [==============================] - 18s 176ms/step - loss: 0.7043 - accuracy: 0.7480 - val_loss: 0.7073 - val_accuracy: 0.6555\n",
            "Epoch 6/20\n",
            "100/100 [==============================] - 18s 175ms/step - loss: 0.7024 - accuracy: 0.7427 - val_loss: 0.7048 - val_accuracy: 0.6590\n",
            "Epoch 7/20\n",
            "100/100 [==============================] - 18s 176ms/step - loss: 0.7030 - accuracy: 0.7395 - val_loss: 0.7049 - val_accuracy: 0.6395\n",
            "Epoch 8/20\n",
            "100/100 [==============================] - 18s 177ms/step - loss: 0.7042 - accuracy: 0.7340 - val_loss: 0.7043 - val_accuracy: 0.6560\n",
            "Epoch 9/20\n",
            "100/100 [==============================] - 18s 176ms/step - loss: 0.7025 - accuracy: 0.7473 - val_loss: 0.7031 - val_accuracy: 0.6560\n",
            "Epoch 10/20\n",
            "100/100 [==============================] - 17s 175ms/step - loss: 0.7030 - accuracy: 0.7467 - val_loss: 0.7025 - val_accuracy: 0.6470\n",
            "Epoch 11/20\n",
            "100/100 [==============================] - 18s 176ms/step - loss: 0.7028 - accuracy: 0.7383 - val_loss: 0.7021 - val_accuracy: 0.6450\n",
            "Epoch 12/20\n",
            "100/100 [==============================] - ETA: 0s - loss: 0.7024 - accuracy: 0.7398"
          ],
          "name": "stdout"
        }
      ]
    },
    {
      "cell_type": "code",
      "metadata": {
        "colab": {
          "base_uri": "https://localhost:8080/"
        },
        "id": "ZCA9hssxFs3-",
        "outputId": "e2db2345-31c0-4279-ce92-2b73b8cf1359"
      },
      "source": [
        "### stick with this model with optimised learning rate, additional batch normalisation and dropout on each layer. \r\n",
        "\r\n",
        "model = models.Sequential()\r\n",
        "model.add(layers.Conv2D(32, (3, 3), activation='relu', input_shape=(150, 150, 3)))\r\n",
        "model.add(BatchNormalization())\r\n",
        "model.add(layers.MaxPooling2D((2, 2)))\r\n",
        "#model.add(layers.Dropout(0.25))\r\n",
        "model.add(layers.Conv2D(64, (3, 3), activation='relu'))\r\n",
        "model.add(BatchNormalization())\r\n",
        "model.add(layers.MaxPooling2D((2, 2)))\r\n",
        "#model.add(layers.Dropout(0.25))\r\n",
        "model.add(layers.Conv2D(128, (3, 3), activation='relu'))\r\n",
        "model.add(BatchNormalization())\r\n",
        "model.add(layers.MaxPooling2D((2, 2)))\r\n",
        "#model.add(layers.Dropout(0.25))\r\n",
        "model.add(layers.Conv2D(128, (3, 3), activation='relu'))\r\n",
        "model.add(BatchNormalization())\r\n",
        "model.add(layers.MaxPooling2D((2, 2)))\r\n",
        "model.add(layers.Flatten())\r\n",
        "model.add(layers.Dense(512, activation='relu'))\r\n",
        "model.add(BatchNormalization())\r\n",
        "#model.add(layers.Dropout(0.5))\r\n",
        "model.add(layers.Dense(1, activation='sigmoid'))\r\n",
        "model.summary()\r\n",
        "\r\n",
        "from keras.callbacks import EarlyStopping, ReduceLROnPlateau\r\n",
        "earlystop = EarlyStopping(patience = 15)\r\n",
        "learning_rate_reduction = ReduceLROnPlateau(patience = 2,verbose = 1,factor = 0.5,min_lr = 0.00001)\r\n",
        "callbacks = [earlystop,learning_rate_reduction]\r\n",
        "\r\n",
        "\r\n",
        "model.compile(loss='binary_crossentropy',\r\n",
        "              optimizer='rmsprop',\r\n",
        "              metrics=['accuracy'])"
      ],
      "execution_count": 13,
      "outputs": [
        {
          "output_type": "stream",
          "text": [
            "Model: \"sequential_3\"\n",
            "_________________________________________________________________\n",
            "Layer (type)                 Output Shape              Param #   \n",
            "=================================================================\n",
            "conv2d_12 (Conv2D)           (None, 148, 148, 32)      896       \n",
            "_________________________________________________________________\n",
            "batch_normalization_10 (Batc (None, 148, 148, 32)      128       \n",
            "_________________________________________________________________\n",
            "max_pooling2d_12 (MaxPooling (None, 74, 74, 32)        0         \n",
            "_________________________________________________________________\n",
            "conv2d_13 (Conv2D)           (None, 72, 72, 64)        18496     \n",
            "_________________________________________________________________\n",
            "batch_normalization_11 (Batc (None, 72, 72, 64)        256       \n",
            "_________________________________________________________________\n",
            "max_pooling2d_13 (MaxPooling (None, 36, 36, 64)        0         \n",
            "_________________________________________________________________\n",
            "conv2d_14 (Conv2D)           (None, 34, 34, 128)       73856     \n",
            "_________________________________________________________________\n",
            "batch_normalization_12 (Batc (None, 34, 34, 128)       512       \n",
            "_________________________________________________________________\n",
            "max_pooling2d_14 (MaxPooling (None, 17, 17, 128)       0         \n",
            "_________________________________________________________________\n",
            "conv2d_15 (Conv2D)           (None, 15, 15, 128)       147584    \n",
            "_________________________________________________________________\n",
            "batch_normalization_13 (Batc (None, 15, 15, 128)       512       \n",
            "_________________________________________________________________\n",
            "max_pooling2d_15 (MaxPooling (None, 7, 7, 128)         0         \n",
            "_________________________________________________________________\n",
            "flatten_3 (Flatten)          (None, 6272)              0         \n",
            "_________________________________________________________________\n",
            "dense_6 (Dense)              (None, 512)               3211776   \n",
            "_________________________________________________________________\n",
            "batch_normalization_14 (Batc (None, 512)               2048      \n",
            "_________________________________________________________________\n",
            "dense_7 (Dense)              (None, 1)                 513       \n",
            "=================================================================\n",
            "Total params: 3,456,577\n",
            "Trainable params: 3,454,849\n",
            "Non-trainable params: 1,728\n",
            "_________________________________________________________________\n"
          ],
          "name": "stdout"
        }
      ]
    },
    {
      "cell_type": "code",
      "metadata": {
        "colab": {
          "base_uri": "https://localhost:8080/"
        },
        "id": "50y-0ZhKGG2O",
        "outputId": "a4ad11f7-7307-4ccf-d7a0-e34f70430072"
      },
      "source": [
        "\r\n",
        "train_datagen = ImageDataGenerator(rescale=1./255,\r\n",
        "                                   rotation_range=40,\r\n",
        "                                   width_shift_range=0.2,\r\n",
        "                                   height_shift_range=0.2,\r\n",
        "                                   shear_range=0.2,\r\n",
        "                                   zoom_range=0.2,\r\n",
        "                                   horizontal_flip=True,)\r\n",
        "\r\n",
        "test_datagen = ImageDataGenerator(rescale=1./255)\r\n",
        "\r\n",
        "train_generator = train_datagen.flow_from_directory(train_dir,\r\n",
        "                                                    target_size=(150, 150),\r\n",
        "                                                    batch_size=20,\r\n",
        "                                                    class_mode='binary')\r\n",
        "\r\n",
        "validation_generator = test_datagen.flow_from_directory(validation_dir,\r\n",
        "                                                        target_size=(150, 150),\r\n",
        "                                                        batch_size=20,\r\n",
        "                                                        class_mode='binary')\r\n",
        "\r\n",
        "history = model.fit_generator(train_generator,\r\n",
        "                              steps_per_epoch=100,\r\n",
        "                              epochs=20,\r\n",
        "                              validation_data=validation_generator,\r\n",
        "                              validation_steps=50,\r\n",
        "                              callbacks=callbacks)"
      ],
      "execution_count": 14,
      "outputs": [
        {
          "output_type": "stream",
          "text": [
            "Found 2000 images belonging to 2 classes.\n",
            "Found 1000 images belonging to 2 classes.\n"
          ],
          "name": "stdout"
        },
        {
          "output_type": "stream",
          "text": [
            "/usr/local/lib/python3.7/dist-packages/tensorflow/python/keras/engine/training.py:1844: UserWarning: `Model.fit_generator` is deprecated and will be removed in a future version. Please use `Model.fit`, which supports generators.\n",
            "  warnings.warn('`Model.fit_generator` is deprecated and '\n"
          ],
          "name": "stderr"
        },
        {
          "output_type": "stream",
          "text": [
            "Epoch 1/20\n",
            "100/100 [==============================] - 48s 164ms/step - loss: 1.4535 - accuracy: 0.5737 - val_loss: 1.5416 - val_accuracy: 0.5000\n",
            "Epoch 2/20\n",
            "100/100 [==============================] - 16s 162ms/step - loss: 0.7293 - accuracy: 0.5967 - val_loss: 0.8982 - val_accuracy: 0.5000\n",
            "Epoch 3/20\n",
            "100/100 [==============================] - 16s 162ms/step - loss: 0.6908 - accuracy: 0.6273 - val_loss: 0.7157 - val_accuracy: 0.5280\n",
            "Epoch 4/20\n",
            "100/100 [==============================] - 16s 162ms/step - loss: 0.6239 - accuracy: 0.6746 - val_loss: 1.0337 - val_accuracy: 0.5180\n",
            "Epoch 5/20\n",
            "100/100 [==============================] - 16s 161ms/step - loss: 0.5824 - accuracy: 0.6926 - val_loss: 0.9328 - val_accuracy: 0.5650\n",
            "\n",
            "Epoch 00005: ReduceLROnPlateau reducing learning rate to 0.0005000000237487257.\n",
            "Epoch 6/20\n",
            "100/100 [==============================] - 16s 161ms/step - loss: 0.5498 - accuracy: 0.7214 - val_loss: 0.5991 - val_accuracy: 0.6830\n",
            "Epoch 7/20\n",
            "100/100 [==============================] - 16s 161ms/step - loss: 0.5477 - accuracy: 0.7297 - val_loss: 0.5041 - val_accuracy: 0.7500\n",
            "Epoch 8/20\n",
            "100/100 [==============================] - 16s 162ms/step - loss: 0.5393 - accuracy: 0.7079 - val_loss: 0.5380 - val_accuracy: 0.7350\n",
            "Epoch 9/20\n",
            "100/100 [==============================] - 16s 161ms/step - loss: 0.5321 - accuracy: 0.7482 - val_loss: 0.4933 - val_accuracy: 0.7570\n",
            "Epoch 10/20\n",
            "100/100 [==============================] - 16s 162ms/step - loss: 0.5418 - accuracy: 0.7372 - val_loss: 0.4836 - val_accuracy: 0.7790\n",
            "Epoch 11/20\n",
            "100/100 [==============================] - 16s 162ms/step - loss: 0.4878 - accuracy: 0.7619 - val_loss: 0.4660 - val_accuracy: 0.7840\n",
            "Epoch 12/20\n",
            "100/100 [==============================] - 16s 162ms/step - loss: 0.5069 - accuracy: 0.7660 - val_loss: 0.5770 - val_accuracy: 0.7290\n",
            "Epoch 13/20\n",
            "100/100 [==============================] - 16s 163ms/step - loss: 0.4925 - accuracy: 0.7586 - val_loss: 0.5429 - val_accuracy: 0.7520\n",
            "\n",
            "Epoch 00013: ReduceLROnPlateau reducing learning rate to 0.0002500000118743628.\n",
            "Epoch 14/20\n",
            "100/100 [==============================] - 16s 162ms/step - loss: 0.4861 - accuracy: 0.7641 - val_loss: 0.4578 - val_accuracy: 0.7950\n",
            "Epoch 15/20\n",
            "100/100 [==============================] - 16s 162ms/step - loss: 0.4767 - accuracy: 0.7662 - val_loss: 0.4621 - val_accuracy: 0.7880\n",
            "Epoch 16/20\n",
            "100/100 [==============================] - 16s 162ms/step - loss: 0.4629 - accuracy: 0.7878 - val_loss: 0.5599 - val_accuracy: 0.7390\n",
            "\n",
            "Epoch 00016: ReduceLROnPlateau reducing learning rate to 0.0001250000059371814.\n",
            "Epoch 17/20\n",
            "100/100 [==============================] - 16s 161ms/step - loss: 0.4312 - accuracy: 0.8055 - val_loss: 0.4673 - val_accuracy: 0.7940\n",
            "Epoch 18/20\n",
            "100/100 [==============================] - 16s 162ms/step - loss: 0.4277 - accuracy: 0.7890 - val_loss: 0.5569 - val_accuracy: 0.7670\n",
            "\n",
            "Epoch 00018: ReduceLROnPlateau reducing learning rate to 6.25000029685907e-05.\n",
            "Epoch 19/20\n",
            "100/100 [==============================] - 16s 161ms/step - loss: 0.3959 - accuracy: 0.8287 - val_loss: 0.4516 - val_accuracy: 0.8040\n",
            "Epoch 20/20\n",
            "100/100 [==============================] - 16s 161ms/step - loss: 0.4041 - accuracy: 0.8155 - val_loss: 0.4967 - val_accuracy: 0.7830\n"
          ],
          "name": "stdout"
        }
      ]
    },
    {
      "cell_type": "code",
      "metadata": {
        "colab": {
          "base_uri": "https://localhost:8080/",
          "height": 562
        },
        "id": "kcO3w1tiKqqI",
        "outputId": "1c09d279-12e1-469e-85c0-f0696d5f8715"
      },
      "source": [
        "model.save('cats_and_dogs_me')\r\n",
        "\r\n",
        "import matplotlib.pyplot as plt\r\n",
        "\r\n",
        "acc = history.history['accuracy']\r\n",
        "val_acc = history.history['val_accuracy']\r\n",
        "loss = history.history['loss']\r\n",
        "val_loss = history.history['val_loss']\r\n",
        "\r\n",
        "epochs = range(1, len(acc) + 1)\r\n",
        "\r\n",
        "plt.plot(epochs, acc, 'bo', label='Training acc')\r\n",
        "plt.plot(epochs, val_acc, 'b', label='Validation acc')\r\n",
        "plt.title('Training and validation accuracy')\r\n",
        "plt.legend()\r\n",
        "\r\n",
        "plt.figure()\r\n",
        "\r\n",
        "plt.plot(epochs, loss, 'bo', label='Training loss')\r\n",
        "plt.plot(epochs, val_loss, 'b', label='Validation loss')\r\n",
        "plt.title('Training and validation loss')\r\n",
        "plt.legend()\r\n",
        "\r\n",
        "plt.show()"
      ],
      "execution_count": 15,
      "outputs": [
        {
          "output_type": "stream",
          "text": [
            "INFO:tensorflow:Assets written to: cats_and_dogs_me/assets\n"
          ],
          "name": "stdout"
        },
        {
          "output_type": "display_data",
          "data": {
            "image/png": "[encoded data removed]",
            "text/plain": [
              "<Figure size 432x288 with 1 Axes>"
            ]
          },
          "metadata": {
            "tags": [],
            "needs_background": "light"
          }
        },
        {
          "output_type": "display_data",
          "data": {
            "image/png": "[encoded data removed]",
            "text/plain": [
              "<Figure size 432x288 with 1 Axes>"
            ]
          },
          "metadata": {
            "tags": [],
            "needs_background": "light"
          }
        }
      ]
    },
    {
      "cell_type": "code",
      "metadata": {
        "colab": {
          "base_uri": "https://localhost:8080/"
        },
        "id": "EZ3fErzWkSIm",
        "outputId": "e83fe761-7376-47e8-da17-85d9d5547859"
      },
      "source": [
        "# Train for 10 epochs more. Note this will use big learning rates again. This is sometimes known as \"training with re-starts\".\r\n",
        "history = model.fit_generator(train_generator,\r\n",
        "                              steps_per_epoch=100,\r\n",
        "                              epochs=10,\r\n",
        "                              validation_data=validation_generator,\r\n",
        "                              validation_steps=50,\r\n",
        "                              callbacks=callbacks)"
      ],
      "execution_count": 16,
      "outputs": [
        {
          "output_type": "stream",
          "text": [
            "/usr/local/lib/python3.7/dist-packages/tensorflow/python/keras/engine/training.py:1844: UserWarning: `Model.fit_generator` is deprecated and will be removed in a future version. Please use `Model.fit`, which supports generators.\n",
            "  warnings.warn('`Model.fit_generator` is deprecated and '\n"
          ],
          "name": "stderr"
        },
        {
          "output_type": "stream",
          "text": [
            "Epoch 1/10\n",
            "100/100 [==============================] - 16s 164ms/step - loss: 0.4198 - accuracy: 0.8095 - val_loss: 0.5027 - val_accuracy: 0.7820\n",
            "Epoch 2/10\n",
            "100/100 [==============================] - 16s 161ms/step - loss: 0.3990 - accuracy: 0.8125 - val_loss: 0.4525 - val_accuracy: 0.7980\n",
            "Epoch 3/10\n",
            "100/100 [==============================] - 16s 162ms/step - loss: 0.4172 - accuracy: 0.8095 - val_loss: 0.4693 - val_accuracy: 0.7950\n",
            "Epoch 4/10\n",
            "100/100 [==============================] - 16s 161ms/step - loss: 0.4088 - accuracy: 0.8095 - val_loss: 0.4525 - val_accuracy: 0.7970\n",
            "\n",
            "Epoch 00004: ReduceLROnPlateau reducing learning rate to 3.125000148429535e-05.\n",
            "Epoch 5/10\n",
            "100/100 [==============================] - 16s 163ms/step - loss: 0.3942 - accuracy: 0.8300 - val_loss: 0.4567 - val_accuracy: 0.8020\n",
            "Epoch 6/10\n",
            "100/100 [==============================] - 16s 162ms/step - loss: 0.4046 - accuracy: 0.8230 - val_loss: 0.4616 - val_accuracy: 0.7970\n",
            "\n",
            "Epoch 00006: ReduceLROnPlateau reducing learning rate to 1.5625000742147677e-05.\n",
            "Epoch 7/10\n",
            "100/100 [==============================] - 16s 161ms/step - loss: 0.4057 - accuracy: 0.8145 - val_loss: 0.4532 - val_accuracy: 0.8000\n",
            "Epoch 8/10\n",
            "100/100 [==============================] - 16s 160ms/step - loss: 0.3988 - accuracy: 0.8195 - val_loss: 0.4491 - val_accuracy: 0.8070\n",
            "Epoch 9/10\n",
            "100/100 [==============================] - 16s 161ms/step - loss: 0.3847 - accuracy: 0.8180 - val_loss: 0.4533 - val_accuracy: 0.8000\n",
            "Epoch 10/10\n",
            "100/100 [==============================] - 16s 161ms/step - loss: 0.3966 - accuracy: 0.8235 - val_loss: 0.4484 - val_accuracy: 0.7970\n"
          ],
          "name": "stdout"
        }
      ]
    }
  ]
}